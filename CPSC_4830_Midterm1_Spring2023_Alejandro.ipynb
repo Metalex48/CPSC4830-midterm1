{
  "cells": [
    {
      "cell_type": "markdown",
      "metadata": {
        "id": "OrQ3LA5fFSpa"
      },
      "source": [
        "<h1 align=\"center\">CPSC 4830</h1>\n",
        "<h2 align=\"center\">MIDTERM 1</h2>"
      ]
    },
    {
      "cell_type": "markdown",
      "metadata": {
        "id": "wdbS4CnNFSpm"
      },
      "source": [
        "# Question 1\n",
        "The SMS Spam Collection is a set of SMS tagged messages that have been collected from SMS Spam research database. It contains one set of SMS messages in English of 5,572 messages, tagged acording being ham (legitimate) or spam.\n",
        "\n",
        "Out of the 5572 sets of sms messages, approximately 20% of the messages have been trimmed and kept aside for Evaluating your model. You only have 4458 rows to build your model.\n",
        "\n",
        "Use this dataset to build a prediction model as follows that will accurately classify which texts are spam.\n",
        "\n",
        "1. Use Count vectorizer to convert the texts into numerical values.\n",
        "2. Use Logistic Regression with L2 Regularisation, find the accuracy of SPAM/HAM detection.\n",
        "3. Compare your result with Random Forest Classifier for this same dataset.\n",
        "\n"
      ]
    },
    {
      "cell_type": "markdown",
      "source": [
        "#### Exploratory Data Analysis"
      ],
      "metadata": {
        "id": "6nUOpKOJT84I"
      }
    },
    {
      "cell_type": "code",
      "source": [
        "import pandas as pd\n",
        "import numpy as np"
      ],
      "metadata": {
        "id": "OU_2QYtXTwL1"
      },
      "execution_count": 3,
      "outputs": []
    },
    {
      "cell_type": "code",
      "source": [
        "spam_df = pd.read_csv(\"spamhamtrain.csv\")"
      ],
      "metadata": {
        "id": "4bfWBMNiUOMZ"
      },
      "execution_count": 4,
      "outputs": []
    },
    {
      "cell_type": "code",
      "source": [
        "spam_df"
      ],
      "metadata": {
        "colab": {
          "base_uri": "https://localhost:8080/",
          "height": 423
        },
        "id": "Qaod6V6gUWpD",
        "outputId": "7871e85f-86db-4e95-fada-24ee0f098fa4"
      },
      "execution_count": 5,
      "outputs": [
        {
          "output_type": "execute_result",
          "data": {
            "text/plain": [
              "     Category                                            Message\n",
              "0         ham      K I'm leaving soon, be there a little after 9\n",
              "1         ham                     No. Yes please. Been swimming?\n",
              "2         ham                             It took Mr owl 3 licks\n",
              "3         ham  Its going good...no problem..but still need li...\n",
              "4         ham  K.. I yan jiu liao... Sat we can go 4 bugis vi...\n",
              "...       ...                                                ...\n",
              "4452      ham                            K:)k:)good:)study well.\n",
              "4453      ham  Chinatown got porridge, claypot rice, yam cake...\n",
              "4454      ham  Hmm... Dunno leh, mayb a bag 4 goigng out dat ...\n",
              "4455      ham                           Tell me whos this pls:-)\n",
              "4456      ham  You are gorgeous! keep those pix cumming :) th...\n",
              "\n",
              "[4457 rows x 2 columns]"
            ],
            "text/html": [
              "\n",
              "  <div id=\"df-20268fa1-efdf-49ef-88f5-49bebcffce25\">\n",
              "    <div class=\"colab-df-container\">\n",
              "      <div>\n",
              "<style scoped>\n",
              "    .dataframe tbody tr th:only-of-type {\n",
              "        vertical-align: middle;\n",
              "    }\n",
              "\n",
              "    .dataframe tbody tr th {\n",
              "        vertical-align: top;\n",
              "    }\n",
              "\n",
              "    .dataframe thead th {\n",
              "        text-align: right;\n",
              "    }\n",
              "</style>\n",
              "<table border=\"1\" class=\"dataframe\">\n",
              "  <thead>\n",
              "    <tr style=\"text-align: right;\">\n",
              "      <th></th>\n",
              "      <th>Category</th>\n",
              "      <th>Message</th>\n",
              "    </tr>\n",
              "  </thead>\n",
              "  <tbody>\n",
              "    <tr>\n",
              "      <th>0</th>\n",
              "      <td>ham</td>\n",
              "      <td>K I'm leaving soon, be there a little after 9</td>\n",
              "    </tr>\n",
              "    <tr>\n",
              "      <th>1</th>\n",
              "      <td>ham</td>\n",
              "      <td>No. Yes please. Been swimming?</td>\n",
              "    </tr>\n",
              "    <tr>\n",
              "      <th>2</th>\n",
              "      <td>ham</td>\n",
              "      <td>It took Mr owl 3 licks</td>\n",
              "    </tr>\n",
              "    <tr>\n",
              "      <th>3</th>\n",
              "      <td>ham</td>\n",
              "      <td>Its going good...no problem..but still need li...</td>\n",
              "    </tr>\n",
              "    <tr>\n",
              "      <th>4</th>\n",
              "      <td>ham</td>\n",
              "      <td>K.. I yan jiu liao... Sat we can go 4 bugis vi...</td>\n",
              "    </tr>\n",
              "    <tr>\n",
              "      <th>...</th>\n",
              "      <td>...</td>\n",
              "      <td>...</td>\n",
              "    </tr>\n",
              "    <tr>\n",
              "      <th>4452</th>\n",
              "      <td>ham</td>\n",
              "      <td>K:)k:)good:)study well.</td>\n",
              "    </tr>\n",
              "    <tr>\n",
              "      <th>4453</th>\n",
              "      <td>ham</td>\n",
              "      <td>Chinatown got porridge, claypot rice, yam cake...</td>\n",
              "    </tr>\n",
              "    <tr>\n",
              "      <th>4454</th>\n",
              "      <td>ham</td>\n",
              "      <td>Hmm... Dunno leh, mayb a bag 4 goigng out dat ...</td>\n",
              "    </tr>\n",
              "    <tr>\n",
              "      <th>4455</th>\n",
              "      <td>ham</td>\n",
              "      <td>Tell me whos this pls:-)</td>\n",
              "    </tr>\n",
              "    <tr>\n",
              "      <th>4456</th>\n",
              "      <td>ham</td>\n",
              "      <td>You are gorgeous! keep those pix cumming :) th...</td>\n",
              "    </tr>\n",
              "  </tbody>\n",
              "</table>\n",
              "<p>4457 rows × 2 columns</p>\n",
              "</div>\n",
              "      <button class=\"colab-df-convert\" onclick=\"convertToInteractive('df-20268fa1-efdf-49ef-88f5-49bebcffce25')\"\n",
              "              title=\"Convert this dataframe to an interactive table.\"\n",
              "              style=\"display:none;\">\n",
              "        \n",
              "  <svg xmlns=\"http://www.w3.org/2000/svg\" height=\"24px\"viewBox=\"0 0 24 24\"\n",
              "       width=\"24px\">\n",
              "    <path d=\"M0 0h24v24H0V0z\" fill=\"none\"/>\n",
              "    <path d=\"M18.56 5.44l.94 2.06.94-2.06 2.06-.94-2.06-.94-.94-2.06-.94 2.06-2.06.94zm-11 1L8.5 8.5l.94-2.06 2.06-.94-2.06-.94L8.5 2.5l-.94 2.06-2.06.94zm10 10l.94 2.06.94-2.06 2.06-.94-2.06-.94-.94-2.06-.94 2.06-2.06.94z\"/><path d=\"M17.41 7.96l-1.37-1.37c-.4-.4-.92-.59-1.43-.59-.52 0-1.04.2-1.43.59L10.3 9.45l-7.72 7.72c-.78.78-.78 2.05 0 2.83L4 21.41c.39.39.9.59 1.41.59.51 0 1.02-.2 1.41-.59l7.78-7.78 2.81-2.81c.8-.78.8-2.07 0-2.86zM5.41 20L4 18.59l7.72-7.72 1.47 1.35L5.41 20z\"/>\n",
              "  </svg>\n",
              "      </button>\n",
              "      \n",
              "  <style>\n",
              "    .colab-df-container {\n",
              "      display:flex;\n",
              "      flex-wrap:wrap;\n",
              "      gap: 12px;\n",
              "    }\n",
              "\n",
              "    .colab-df-convert {\n",
              "      background-color: #E8F0FE;\n",
              "      border: none;\n",
              "      border-radius: 50%;\n",
              "      cursor: pointer;\n",
              "      display: none;\n",
              "      fill: #1967D2;\n",
              "      height: 32px;\n",
              "      padding: 0 0 0 0;\n",
              "      width: 32px;\n",
              "    }\n",
              "\n",
              "    .colab-df-convert:hover {\n",
              "      background-color: #E2EBFA;\n",
              "      box-shadow: 0px 1px 2px rgba(60, 64, 67, 0.3), 0px 1px 3px 1px rgba(60, 64, 67, 0.15);\n",
              "      fill: #174EA6;\n",
              "    }\n",
              "\n",
              "    [theme=dark] .colab-df-convert {\n",
              "      background-color: #3B4455;\n",
              "      fill: #D2E3FC;\n",
              "    }\n",
              "\n",
              "    [theme=dark] .colab-df-convert:hover {\n",
              "      background-color: #434B5C;\n",
              "      box-shadow: 0px 1px 3px 1px rgba(0, 0, 0, 0.15);\n",
              "      filter: drop-shadow(0px 1px 2px rgba(0, 0, 0, 0.3));\n",
              "      fill: #FFFFFF;\n",
              "    }\n",
              "  </style>\n",
              "\n",
              "      <script>\n",
              "        const buttonEl =\n",
              "          document.querySelector('#df-20268fa1-efdf-49ef-88f5-49bebcffce25 button.colab-df-convert');\n",
              "        buttonEl.style.display =\n",
              "          google.colab.kernel.accessAllowed ? 'block' : 'none';\n",
              "\n",
              "        async function convertToInteractive(key) {\n",
              "          const element = document.querySelector('#df-20268fa1-efdf-49ef-88f5-49bebcffce25');\n",
              "          const dataTable =\n",
              "            await google.colab.kernel.invokeFunction('convertToInteractive',\n",
              "                                                     [key], {});\n",
              "          if (!dataTable) return;\n",
              "\n",
              "          const docLinkHtml = 'Like what you see? Visit the ' +\n",
              "            '<a target=\"_blank\" href=https://colab.research.google.com/notebooks/data_table.ipynb>data table notebook</a>'\n",
              "            + ' to learn more about interactive tables.';\n",
              "          element.innerHTML = '';\n",
              "          dataTable['output_type'] = 'display_data';\n",
              "          await google.colab.output.renderOutput(dataTable, element);\n",
              "          const docLink = document.createElement('div');\n",
              "          docLink.innerHTML = docLinkHtml;\n",
              "          element.appendChild(docLink);\n",
              "        }\n",
              "      </script>\n",
              "    </div>\n",
              "  </div>\n",
              "  "
            ]
          },
          "metadata": {},
          "execution_count": 5
        }
      ]
    },
    {
      "cell_type": "code",
      "source": [
        "spam_df.info()"
      ],
      "metadata": {
        "colab": {
          "base_uri": "https://localhost:8080/"
        },
        "id": "gjYcVXbZUgbN",
        "outputId": "689f872b-3300-4b8d-a49a-e5eefa458b0f"
      },
      "execution_count": 6,
      "outputs": [
        {
          "output_type": "stream",
          "name": "stdout",
          "text": [
            "<class 'pandas.core.frame.DataFrame'>\n",
            "RangeIndex: 4457 entries, 0 to 4456\n",
            "Data columns (total 2 columns):\n",
            " #   Column    Non-Null Count  Dtype \n",
            "---  ------    --------------  ----- \n",
            " 0   Category  4457 non-null   object\n",
            " 1   Message   4457 non-null   object\n",
            "dtypes: object(2)\n",
            "memory usage: 69.8+ KB\n"
          ]
        }
      ]
    },
    {
      "cell_type": "code",
      "source": [
        "spam_df.describe()"
      ],
      "metadata": {
        "colab": {
          "base_uri": "https://localhost:8080/",
          "height": 174
        },
        "id": "tgi3JUoRUkJw",
        "outputId": "c072b56f-bb9b-4e73-dc55-bbda8bef168f"
      },
      "execution_count": 7,
      "outputs": [
        {
          "output_type": "execute_result",
          "data": {
            "text/plain": [
              "       Category                 Message\n",
              "count      4457                    4457\n",
              "unique        2                    4157\n",
              "top         ham  Sorry, I'll call later\n",
              "freq       3863                      26"
            ],
            "text/html": [
              "\n",
              "  <div id=\"df-699cdce0-91ca-4eb0-8638-5293e930c047\">\n",
              "    <div class=\"colab-df-container\">\n",
              "      <div>\n",
              "<style scoped>\n",
              "    .dataframe tbody tr th:only-of-type {\n",
              "        vertical-align: middle;\n",
              "    }\n",
              "\n",
              "    .dataframe tbody tr th {\n",
              "        vertical-align: top;\n",
              "    }\n",
              "\n",
              "    .dataframe thead th {\n",
              "        text-align: right;\n",
              "    }\n",
              "</style>\n",
              "<table border=\"1\" class=\"dataframe\">\n",
              "  <thead>\n",
              "    <tr style=\"text-align: right;\">\n",
              "      <th></th>\n",
              "      <th>Category</th>\n",
              "      <th>Message</th>\n",
              "    </tr>\n",
              "  </thead>\n",
              "  <tbody>\n",
              "    <tr>\n",
              "      <th>count</th>\n",
              "      <td>4457</td>\n",
              "      <td>4457</td>\n",
              "    </tr>\n",
              "    <tr>\n",
              "      <th>unique</th>\n",
              "      <td>2</td>\n",
              "      <td>4157</td>\n",
              "    </tr>\n",
              "    <tr>\n",
              "      <th>top</th>\n",
              "      <td>ham</td>\n",
              "      <td>Sorry, I'll call later</td>\n",
              "    </tr>\n",
              "    <tr>\n",
              "      <th>freq</th>\n",
              "      <td>3863</td>\n",
              "      <td>26</td>\n",
              "    </tr>\n",
              "  </tbody>\n",
              "</table>\n",
              "</div>\n",
              "      <button class=\"colab-df-convert\" onclick=\"convertToInteractive('df-699cdce0-91ca-4eb0-8638-5293e930c047')\"\n",
              "              title=\"Convert this dataframe to an interactive table.\"\n",
              "              style=\"display:none;\">\n",
              "        \n",
              "  <svg xmlns=\"http://www.w3.org/2000/svg\" height=\"24px\"viewBox=\"0 0 24 24\"\n",
              "       width=\"24px\">\n",
              "    <path d=\"M0 0h24v24H0V0z\" fill=\"none\"/>\n",
              "    <path d=\"M18.56 5.44l.94 2.06.94-2.06 2.06-.94-2.06-.94-.94-2.06-.94 2.06-2.06.94zm-11 1L8.5 8.5l.94-2.06 2.06-.94-2.06-.94L8.5 2.5l-.94 2.06-2.06.94zm10 10l.94 2.06.94-2.06 2.06-.94-2.06-.94-.94-2.06-.94 2.06-2.06.94z\"/><path d=\"M17.41 7.96l-1.37-1.37c-.4-.4-.92-.59-1.43-.59-.52 0-1.04.2-1.43.59L10.3 9.45l-7.72 7.72c-.78.78-.78 2.05 0 2.83L4 21.41c.39.39.9.59 1.41.59.51 0 1.02-.2 1.41-.59l7.78-7.78 2.81-2.81c.8-.78.8-2.07 0-2.86zM5.41 20L4 18.59l7.72-7.72 1.47 1.35L5.41 20z\"/>\n",
              "  </svg>\n",
              "      </button>\n",
              "      \n",
              "  <style>\n",
              "    .colab-df-container {\n",
              "      display:flex;\n",
              "      flex-wrap:wrap;\n",
              "      gap: 12px;\n",
              "    }\n",
              "\n",
              "    .colab-df-convert {\n",
              "      background-color: #E8F0FE;\n",
              "      border: none;\n",
              "      border-radius: 50%;\n",
              "      cursor: pointer;\n",
              "      display: none;\n",
              "      fill: #1967D2;\n",
              "      height: 32px;\n",
              "      padding: 0 0 0 0;\n",
              "      width: 32px;\n",
              "    }\n",
              "\n",
              "    .colab-df-convert:hover {\n",
              "      background-color: #E2EBFA;\n",
              "      box-shadow: 0px 1px 2px rgba(60, 64, 67, 0.3), 0px 1px 3px 1px rgba(60, 64, 67, 0.15);\n",
              "      fill: #174EA6;\n",
              "    }\n",
              "\n",
              "    [theme=dark] .colab-df-convert {\n",
              "      background-color: #3B4455;\n",
              "      fill: #D2E3FC;\n",
              "    }\n",
              "\n",
              "    [theme=dark] .colab-df-convert:hover {\n",
              "      background-color: #434B5C;\n",
              "      box-shadow: 0px 1px 3px 1px rgba(0, 0, 0, 0.15);\n",
              "      filter: drop-shadow(0px 1px 2px rgba(0, 0, 0, 0.3));\n",
              "      fill: #FFFFFF;\n",
              "    }\n",
              "  </style>\n",
              "\n",
              "      <script>\n",
              "        const buttonEl =\n",
              "          document.querySelector('#df-699cdce0-91ca-4eb0-8638-5293e930c047 button.colab-df-convert');\n",
              "        buttonEl.style.display =\n",
              "          google.colab.kernel.accessAllowed ? 'block' : 'none';\n",
              "\n",
              "        async function convertToInteractive(key) {\n",
              "          const element = document.querySelector('#df-699cdce0-91ca-4eb0-8638-5293e930c047');\n",
              "          const dataTable =\n",
              "            await google.colab.kernel.invokeFunction('convertToInteractive',\n",
              "                                                     [key], {});\n",
              "          if (!dataTable) return;\n",
              "\n",
              "          const docLinkHtml = 'Like what you see? Visit the ' +\n",
              "            '<a target=\"_blank\" href=https://colab.research.google.com/notebooks/data_table.ipynb>data table notebook</a>'\n",
              "            + ' to learn more about interactive tables.';\n",
              "          element.innerHTML = '';\n",
              "          dataTable['output_type'] = 'display_data';\n",
              "          await google.colab.output.renderOutput(dataTable, element);\n",
              "          const docLink = document.createElement('div');\n",
              "          docLink.innerHTML = docLinkHtml;\n",
              "          element.appendChild(docLink);\n",
              "        }\n",
              "      </script>\n",
              "    </div>\n",
              "  </div>\n",
              "  "
            ]
          },
          "metadata": {},
          "execution_count": 7
        }
      ]
    },
    {
      "cell_type": "code",
      "source": [
        "print('Ham comprises', round((3863/4457*100),2),'% of the dataset.')\n",
        "print('Spam comprises', round((594/4457*100),2),'% of the dataset.')"
      ],
      "metadata": {
        "colab": {
          "base_uri": "https://localhost:8080/"
        },
        "id": "R8iJ0eAZeoKX",
        "outputId": "48c0c3e8-8015-42fa-8fa4-c014004da204"
      },
      "execution_count": 8,
      "outputs": [
        {
          "output_type": "stream",
          "name": "stdout",
          "text": [
            "Ham comprises 86.67 % of the dataset.\n",
            "Spam comprises 13.33 % of the dataset.\n"
          ]
        }
      ]
    },
    {
      "cell_type": "code",
      "source": [
        "spam_df['Category'].value_counts()"
      ],
      "metadata": {
        "colab": {
          "base_uri": "https://localhost:8080/"
        },
        "id": "mZR_OagcUqtc",
        "outputId": "8551326d-bd69-4bf1-86aa-c41fe912c336"
      },
      "execution_count": 9,
      "outputs": [
        {
          "output_type": "execute_result",
          "data": {
            "text/plain": [
              "ham     3863\n",
              "spam     594\n",
              "Name: Category, dtype: int64"
            ]
          },
          "metadata": {},
          "execution_count": 9
        }
      ]
    },
    {
      "cell_type": "code",
      "source": [
        "spam_df.groupby('Category').describe()"
      ],
      "metadata": {
        "colab": {
          "base_uri": "https://localhost:8080/",
          "height": 174
        },
        "id": "R7xRzEAYU6mp",
        "outputId": "9c978d57-0590-460b-c08c-1a92f14772da"
      },
      "execution_count": 10,
      "outputs": [
        {
          "output_type": "execute_result",
          "data": {
            "text/plain": [
              "         Message                                                            \\\n",
              "           count unique                                                top   \n",
              "Category                                                                     \n",
              "ham         3863   3635                             Sorry, I'll call later   \n",
              "spam         594    522  Please call our customer service representativ...   \n",
              "\n",
              "               \n",
              "         freq  \n",
              "Category       \n",
              "ham        26  \n",
              "spam        4  "
            ],
            "text/html": [
              "\n",
              "  <div id=\"df-f1e03c8a-8dfb-4976-b2c4-59720b0511db\">\n",
              "    <div class=\"colab-df-container\">\n",
              "      <div>\n",
              "<style scoped>\n",
              "    .dataframe tbody tr th:only-of-type {\n",
              "        vertical-align: middle;\n",
              "    }\n",
              "\n",
              "    .dataframe tbody tr th {\n",
              "        vertical-align: top;\n",
              "    }\n",
              "\n",
              "    .dataframe thead tr th {\n",
              "        text-align: left;\n",
              "    }\n",
              "\n",
              "    .dataframe thead tr:last-of-type th {\n",
              "        text-align: right;\n",
              "    }\n",
              "</style>\n",
              "<table border=\"1\" class=\"dataframe\">\n",
              "  <thead>\n",
              "    <tr>\n",
              "      <th></th>\n",
              "      <th colspan=\"4\" halign=\"left\">Message</th>\n",
              "    </tr>\n",
              "    <tr>\n",
              "      <th></th>\n",
              "      <th>count</th>\n",
              "      <th>unique</th>\n",
              "      <th>top</th>\n",
              "      <th>freq</th>\n",
              "    </tr>\n",
              "    <tr>\n",
              "      <th>Category</th>\n",
              "      <th></th>\n",
              "      <th></th>\n",
              "      <th></th>\n",
              "      <th></th>\n",
              "    </tr>\n",
              "  </thead>\n",
              "  <tbody>\n",
              "    <tr>\n",
              "      <th>ham</th>\n",
              "      <td>3863</td>\n",
              "      <td>3635</td>\n",
              "      <td>Sorry, I'll call later</td>\n",
              "      <td>26</td>\n",
              "    </tr>\n",
              "    <tr>\n",
              "      <th>spam</th>\n",
              "      <td>594</td>\n",
              "      <td>522</td>\n",
              "      <td>Please call our customer service representativ...</td>\n",
              "      <td>4</td>\n",
              "    </tr>\n",
              "  </tbody>\n",
              "</table>\n",
              "</div>\n",
              "      <button class=\"colab-df-convert\" onclick=\"convertToInteractive('df-f1e03c8a-8dfb-4976-b2c4-59720b0511db')\"\n",
              "              title=\"Convert this dataframe to an interactive table.\"\n",
              "              style=\"display:none;\">\n",
              "        \n",
              "  <svg xmlns=\"http://www.w3.org/2000/svg\" height=\"24px\"viewBox=\"0 0 24 24\"\n",
              "       width=\"24px\">\n",
              "    <path d=\"M0 0h24v24H0V0z\" fill=\"none\"/>\n",
              "    <path d=\"M18.56 5.44l.94 2.06.94-2.06 2.06-.94-2.06-.94-.94-2.06-.94 2.06-2.06.94zm-11 1L8.5 8.5l.94-2.06 2.06-.94-2.06-.94L8.5 2.5l-.94 2.06-2.06.94zm10 10l.94 2.06.94-2.06 2.06-.94-2.06-.94-.94-2.06-.94 2.06-2.06.94z\"/><path d=\"M17.41 7.96l-1.37-1.37c-.4-.4-.92-.59-1.43-.59-.52 0-1.04.2-1.43.59L10.3 9.45l-7.72 7.72c-.78.78-.78 2.05 0 2.83L4 21.41c.39.39.9.59 1.41.59.51 0 1.02-.2 1.41-.59l7.78-7.78 2.81-2.81c.8-.78.8-2.07 0-2.86zM5.41 20L4 18.59l7.72-7.72 1.47 1.35L5.41 20z\"/>\n",
              "  </svg>\n",
              "      </button>\n",
              "      \n",
              "  <style>\n",
              "    .colab-df-container {\n",
              "      display:flex;\n",
              "      flex-wrap:wrap;\n",
              "      gap: 12px;\n",
              "    }\n",
              "\n",
              "    .colab-df-convert {\n",
              "      background-color: #E8F0FE;\n",
              "      border: none;\n",
              "      border-radius: 50%;\n",
              "      cursor: pointer;\n",
              "      display: none;\n",
              "      fill: #1967D2;\n",
              "      height: 32px;\n",
              "      padding: 0 0 0 0;\n",
              "      width: 32px;\n",
              "    }\n",
              "\n",
              "    .colab-df-convert:hover {\n",
              "      background-color: #E2EBFA;\n",
              "      box-shadow: 0px 1px 2px rgba(60, 64, 67, 0.3), 0px 1px 3px 1px rgba(60, 64, 67, 0.15);\n",
              "      fill: #174EA6;\n",
              "    }\n",
              "\n",
              "    [theme=dark] .colab-df-convert {\n",
              "      background-color: #3B4455;\n",
              "      fill: #D2E3FC;\n",
              "    }\n",
              "\n",
              "    [theme=dark] .colab-df-convert:hover {\n",
              "      background-color: #434B5C;\n",
              "      box-shadow: 0px 1px 3px 1px rgba(0, 0, 0, 0.15);\n",
              "      filter: drop-shadow(0px 1px 2px rgba(0, 0, 0, 0.3));\n",
              "      fill: #FFFFFF;\n",
              "    }\n",
              "  </style>\n",
              "\n",
              "      <script>\n",
              "        const buttonEl =\n",
              "          document.querySelector('#df-f1e03c8a-8dfb-4976-b2c4-59720b0511db button.colab-df-convert');\n",
              "        buttonEl.style.display =\n",
              "          google.colab.kernel.accessAllowed ? 'block' : 'none';\n",
              "\n",
              "        async function convertToInteractive(key) {\n",
              "          const element = document.querySelector('#df-f1e03c8a-8dfb-4976-b2c4-59720b0511db');\n",
              "          const dataTable =\n",
              "            await google.colab.kernel.invokeFunction('convertToInteractive',\n",
              "                                                     [key], {});\n",
              "          if (!dataTable) return;\n",
              "\n",
              "          const docLinkHtml = 'Like what you see? Visit the ' +\n",
              "            '<a target=\"_blank\" href=https://colab.research.google.com/notebooks/data_table.ipynb>data table notebook</a>'\n",
              "            + ' to learn more about interactive tables.';\n",
              "          element.innerHTML = '';\n",
              "          dataTable['output_type'] = 'display_data';\n",
              "          await google.colab.output.renderOutput(dataTable, element);\n",
              "          const docLink = document.createElement('div');\n",
              "          docLink.innerHTML = docLinkHtml;\n",
              "          element.appendChild(docLink);\n",
              "        }\n",
              "      </script>\n",
              "    </div>\n",
              "  </div>\n",
              "  "
            ]
          },
          "metadata": {},
          "execution_count": 10
        }
      ]
    },
    {
      "cell_type": "code",
      "source": [
        "# visualizing some of the repeated spam messages.\n",
        "filter = spam_df[spam_df['Category'] == 'spam']\n",
        "filter[filter.duplicated()].sort_values('Message')"
      ],
      "metadata": {
        "colab": {
          "base_uri": "https://localhost:8080/",
          "height": 423
        },
        "id": "-nfzP4EkYgkq",
        "outputId": "8a369275-679f-4dc1-da0f-6419e3b48b53"
      },
      "execution_count": 11,
      "outputs": [
        {
          "output_type": "execute_result",
          "data": {
            "text/plain": [
              "     Category                                            Message\n",
              "4377     spam                                            #ERROR!\n",
              "2223     spam                                            #ERROR!\n",
              "3804     spam  18 days to Euro2004 kickoff! U will be kept in...\n",
              "3112     spam  4mths half price Orange line rental & latest c...\n",
              "1022     spam  A £400 XMAS REWARD IS WAITING FOR YOU! Our com...\n",
              "...       ...                                                ...\n",
              "4001     spam  You are awarded a SiPix Digital Camera! call 0...\n",
              "3450     spam  You have won a Nokia 7250i. This is what you g...\n",
              "2790     spam  You have won a Nokia 7250i. This is what you g...\n",
              "2829     spam  You've won tkts to the EURO2004 CUP FINAL or £...\n",
              "833      spam  Your free ringtone is waiting to be collected....\n",
              "\n",
              "[72 rows x 2 columns]"
            ],
            "text/html": [
              "\n",
              "  <div id=\"df-1ab31672-a66a-4366-8a63-92346620a987\">\n",
              "    <div class=\"colab-df-container\">\n",
              "      <div>\n",
              "<style scoped>\n",
              "    .dataframe tbody tr th:only-of-type {\n",
              "        vertical-align: middle;\n",
              "    }\n",
              "\n",
              "    .dataframe tbody tr th {\n",
              "        vertical-align: top;\n",
              "    }\n",
              "\n",
              "    .dataframe thead th {\n",
              "        text-align: right;\n",
              "    }\n",
              "</style>\n",
              "<table border=\"1\" class=\"dataframe\">\n",
              "  <thead>\n",
              "    <tr style=\"text-align: right;\">\n",
              "      <th></th>\n",
              "      <th>Category</th>\n",
              "      <th>Message</th>\n",
              "    </tr>\n",
              "  </thead>\n",
              "  <tbody>\n",
              "    <tr>\n",
              "      <th>4377</th>\n",
              "      <td>spam</td>\n",
              "      <td>#ERROR!</td>\n",
              "    </tr>\n",
              "    <tr>\n",
              "      <th>2223</th>\n",
              "      <td>spam</td>\n",
              "      <td>#ERROR!</td>\n",
              "    </tr>\n",
              "    <tr>\n",
              "      <th>3804</th>\n",
              "      <td>spam</td>\n",
              "      <td>18 days to Euro2004 kickoff! U will be kept in...</td>\n",
              "    </tr>\n",
              "    <tr>\n",
              "      <th>3112</th>\n",
              "      <td>spam</td>\n",
              "      <td>4mths half price Orange line rental &amp; latest c...</td>\n",
              "    </tr>\n",
              "    <tr>\n",
              "      <th>1022</th>\n",
              "      <td>spam</td>\n",
              "      <td>A £400 XMAS REWARD IS WAITING FOR YOU! Our com...</td>\n",
              "    </tr>\n",
              "    <tr>\n",
              "      <th>...</th>\n",
              "      <td>...</td>\n",
              "      <td>...</td>\n",
              "    </tr>\n",
              "    <tr>\n",
              "      <th>4001</th>\n",
              "      <td>spam</td>\n",
              "      <td>You are awarded a SiPix Digital Camera! call 0...</td>\n",
              "    </tr>\n",
              "    <tr>\n",
              "      <th>3450</th>\n",
              "      <td>spam</td>\n",
              "      <td>You have won a Nokia 7250i. This is what you g...</td>\n",
              "    </tr>\n",
              "    <tr>\n",
              "      <th>2790</th>\n",
              "      <td>spam</td>\n",
              "      <td>You have won a Nokia 7250i. This is what you g...</td>\n",
              "    </tr>\n",
              "    <tr>\n",
              "      <th>2829</th>\n",
              "      <td>spam</td>\n",
              "      <td>You've won tkts to the EURO2004 CUP FINAL or £...</td>\n",
              "    </tr>\n",
              "    <tr>\n",
              "      <th>833</th>\n",
              "      <td>spam</td>\n",
              "      <td>Your free ringtone is waiting to be collected....</td>\n",
              "    </tr>\n",
              "  </tbody>\n",
              "</table>\n",
              "<p>72 rows × 2 columns</p>\n",
              "</div>\n",
              "      <button class=\"colab-df-convert\" onclick=\"convertToInteractive('df-1ab31672-a66a-4366-8a63-92346620a987')\"\n",
              "              title=\"Convert this dataframe to an interactive table.\"\n",
              "              style=\"display:none;\">\n",
              "        \n",
              "  <svg xmlns=\"http://www.w3.org/2000/svg\" height=\"24px\"viewBox=\"0 0 24 24\"\n",
              "       width=\"24px\">\n",
              "    <path d=\"M0 0h24v24H0V0z\" fill=\"none\"/>\n",
              "    <path d=\"M18.56 5.44l.94 2.06.94-2.06 2.06-.94-2.06-.94-.94-2.06-.94 2.06-2.06.94zm-11 1L8.5 8.5l.94-2.06 2.06-.94-2.06-.94L8.5 2.5l-.94 2.06-2.06.94zm10 10l.94 2.06.94-2.06 2.06-.94-2.06-.94-.94-2.06-.94 2.06-2.06.94z\"/><path d=\"M17.41 7.96l-1.37-1.37c-.4-.4-.92-.59-1.43-.59-.52 0-1.04.2-1.43.59L10.3 9.45l-7.72 7.72c-.78.78-.78 2.05 0 2.83L4 21.41c.39.39.9.59 1.41.59.51 0 1.02-.2 1.41-.59l7.78-7.78 2.81-2.81c.8-.78.8-2.07 0-2.86zM5.41 20L4 18.59l7.72-7.72 1.47 1.35L5.41 20z\"/>\n",
              "  </svg>\n",
              "      </button>\n",
              "      \n",
              "  <style>\n",
              "    .colab-df-container {\n",
              "      display:flex;\n",
              "      flex-wrap:wrap;\n",
              "      gap: 12px;\n",
              "    }\n",
              "\n",
              "    .colab-df-convert {\n",
              "      background-color: #E8F0FE;\n",
              "      border: none;\n",
              "      border-radius: 50%;\n",
              "      cursor: pointer;\n",
              "      display: none;\n",
              "      fill: #1967D2;\n",
              "      height: 32px;\n",
              "      padding: 0 0 0 0;\n",
              "      width: 32px;\n",
              "    }\n",
              "\n",
              "    .colab-df-convert:hover {\n",
              "      background-color: #E2EBFA;\n",
              "      box-shadow: 0px 1px 2px rgba(60, 64, 67, 0.3), 0px 1px 3px 1px rgba(60, 64, 67, 0.15);\n",
              "      fill: #174EA6;\n",
              "    }\n",
              "\n",
              "    [theme=dark] .colab-df-convert {\n",
              "      background-color: #3B4455;\n",
              "      fill: #D2E3FC;\n",
              "    }\n",
              "\n",
              "    [theme=dark] .colab-df-convert:hover {\n",
              "      background-color: #434B5C;\n",
              "      box-shadow: 0px 1px 3px 1px rgba(0, 0, 0, 0.15);\n",
              "      filter: drop-shadow(0px 1px 2px rgba(0, 0, 0, 0.3));\n",
              "      fill: #FFFFFF;\n",
              "    }\n",
              "  </style>\n",
              "\n",
              "      <script>\n",
              "        const buttonEl =\n",
              "          document.querySelector('#df-1ab31672-a66a-4366-8a63-92346620a987 button.colab-df-convert');\n",
              "        buttonEl.style.display =\n",
              "          google.colab.kernel.accessAllowed ? 'block' : 'none';\n",
              "\n",
              "        async function convertToInteractive(key) {\n",
              "          const element = document.querySelector('#df-1ab31672-a66a-4366-8a63-92346620a987');\n",
              "          const dataTable =\n",
              "            await google.colab.kernel.invokeFunction('convertToInteractive',\n",
              "                                                     [key], {});\n",
              "          if (!dataTable) return;\n",
              "\n",
              "          const docLinkHtml = 'Like what you see? Visit the ' +\n",
              "            '<a target=\"_blank\" href=https://colab.research.google.com/notebooks/data_table.ipynb>data table notebook</a>'\n",
              "            + ' to learn more about interactive tables.';\n",
              "          element.innerHTML = '';\n",
              "          dataTable['output_type'] = 'display_data';\n",
              "          await google.colab.output.renderOutput(dataTable, element);\n",
              "          const docLink = document.createElement('div');\n",
              "          docLink.innerHTML = docLinkHtml;\n",
              "          element.appendChild(docLink);\n",
              "        }\n",
              "      </script>\n",
              "    </div>\n",
              "  </div>\n",
              "  "
            ]
          },
          "metadata": {},
          "execution_count": 11
        }
      ]
    },
    {
      "cell_type": "code",
      "source": [
        "# appending a new row with the lenght of the messages\n",
        "spam_df['length'] = spam_df['Message'].apply(len)\n",
        "spam_df.sort_values('length')"
      ],
      "metadata": {
        "colab": {
          "base_uri": "https://localhost:8080/",
          "height": 423
        },
        "id": "JHTkhq5vVo6p",
        "outputId": "985b1f8b-afc4-4a4b-f22e-f091e18aac25"
      },
      "execution_count": 12,
      "outputs": [
        {
          "output_type": "execute_result",
          "data": {
            "text/plain": [
              "     Category                                            Message  length\n",
              "4041      ham                                                 Ok       2\n",
              "1939      ham                                                 Ok       2\n",
              "497       ham                                                 Ok       2\n",
              "2484      ham                                                Ok.       3\n",
              "3091      ham                                                Ok.       3\n",
              "...       ...                                                ...     ...\n",
              "391       ham  Sad story of a Man - Last week was my b'day. M...     588\n",
              "3090      ham  How to Make a girl Happy? It's not at all diff...     611\n",
              "3100      ham  Indians r poor but India is not a poor country...     629\n",
              "2305      ham  The last thing i ever wanted to do was hurt yo...     790\n",
              "724       ham  For me the love should start with attraction.i...     910\n",
              "\n",
              "[4457 rows x 3 columns]"
            ],
            "text/html": [
              "\n",
              "  <div id=\"df-64cdb9d3-479e-477f-9db3-b809a64ef190\">\n",
              "    <div class=\"colab-df-container\">\n",
              "      <div>\n",
              "<style scoped>\n",
              "    .dataframe tbody tr th:only-of-type {\n",
              "        vertical-align: middle;\n",
              "    }\n",
              "\n",
              "    .dataframe tbody tr th {\n",
              "        vertical-align: top;\n",
              "    }\n",
              "\n",
              "    .dataframe thead th {\n",
              "        text-align: right;\n",
              "    }\n",
              "</style>\n",
              "<table border=\"1\" class=\"dataframe\">\n",
              "  <thead>\n",
              "    <tr style=\"text-align: right;\">\n",
              "      <th></th>\n",
              "      <th>Category</th>\n",
              "      <th>Message</th>\n",
              "      <th>length</th>\n",
              "    </tr>\n",
              "  </thead>\n",
              "  <tbody>\n",
              "    <tr>\n",
              "      <th>4041</th>\n",
              "      <td>ham</td>\n",
              "      <td>Ok</td>\n",
              "      <td>2</td>\n",
              "    </tr>\n",
              "    <tr>\n",
              "      <th>1939</th>\n",
              "      <td>ham</td>\n",
              "      <td>Ok</td>\n",
              "      <td>2</td>\n",
              "    </tr>\n",
              "    <tr>\n",
              "      <th>497</th>\n",
              "      <td>ham</td>\n",
              "      <td>Ok</td>\n",
              "      <td>2</td>\n",
              "    </tr>\n",
              "    <tr>\n",
              "      <th>2484</th>\n",
              "      <td>ham</td>\n",
              "      <td>Ok.</td>\n",
              "      <td>3</td>\n",
              "    </tr>\n",
              "    <tr>\n",
              "      <th>3091</th>\n",
              "      <td>ham</td>\n",
              "      <td>Ok.</td>\n",
              "      <td>3</td>\n",
              "    </tr>\n",
              "    <tr>\n",
              "      <th>...</th>\n",
              "      <td>...</td>\n",
              "      <td>...</td>\n",
              "      <td>...</td>\n",
              "    </tr>\n",
              "    <tr>\n",
              "      <th>391</th>\n",
              "      <td>ham</td>\n",
              "      <td>Sad story of a Man - Last week was my b'day. M...</td>\n",
              "      <td>588</td>\n",
              "    </tr>\n",
              "    <tr>\n",
              "      <th>3090</th>\n",
              "      <td>ham</td>\n",
              "      <td>How to Make a girl Happy? It's not at all diff...</td>\n",
              "      <td>611</td>\n",
              "    </tr>\n",
              "    <tr>\n",
              "      <th>3100</th>\n",
              "      <td>ham</td>\n",
              "      <td>Indians r poor but India is not a poor country...</td>\n",
              "      <td>629</td>\n",
              "    </tr>\n",
              "    <tr>\n",
              "      <th>2305</th>\n",
              "      <td>ham</td>\n",
              "      <td>The last thing i ever wanted to do was hurt yo...</td>\n",
              "      <td>790</td>\n",
              "    </tr>\n",
              "    <tr>\n",
              "      <th>724</th>\n",
              "      <td>ham</td>\n",
              "      <td>For me the love should start with attraction.i...</td>\n",
              "      <td>910</td>\n",
              "    </tr>\n",
              "  </tbody>\n",
              "</table>\n",
              "<p>4457 rows × 3 columns</p>\n",
              "</div>\n",
              "      <button class=\"colab-df-convert\" onclick=\"convertToInteractive('df-64cdb9d3-479e-477f-9db3-b809a64ef190')\"\n",
              "              title=\"Convert this dataframe to an interactive table.\"\n",
              "              style=\"display:none;\">\n",
              "        \n",
              "  <svg xmlns=\"http://www.w3.org/2000/svg\" height=\"24px\"viewBox=\"0 0 24 24\"\n",
              "       width=\"24px\">\n",
              "    <path d=\"M0 0h24v24H0V0z\" fill=\"none\"/>\n",
              "    <path d=\"M18.56 5.44l.94 2.06.94-2.06 2.06-.94-2.06-.94-.94-2.06-.94 2.06-2.06.94zm-11 1L8.5 8.5l.94-2.06 2.06-.94-2.06-.94L8.5 2.5l-.94 2.06-2.06.94zm10 10l.94 2.06.94-2.06 2.06-.94-2.06-.94-.94-2.06-.94 2.06-2.06.94z\"/><path d=\"M17.41 7.96l-1.37-1.37c-.4-.4-.92-.59-1.43-.59-.52 0-1.04.2-1.43.59L10.3 9.45l-7.72 7.72c-.78.78-.78 2.05 0 2.83L4 21.41c.39.39.9.59 1.41.59.51 0 1.02-.2 1.41-.59l7.78-7.78 2.81-2.81c.8-.78.8-2.07 0-2.86zM5.41 20L4 18.59l7.72-7.72 1.47 1.35L5.41 20z\"/>\n",
              "  </svg>\n",
              "      </button>\n",
              "      \n",
              "  <style>\n",
              "    .colab-df-container {\n",
              "      display:flex;\n",
              "      flex-wrap:wrap;\n",
              "      gap: 12px;\n",
              "    }\n",
              "\n",
              "    .colab-df-convert {\n",
              "      background-color: #E8F0FE;\n",
              "      border: none;\n",
              "      border-radius: 50%;\n",
              "      cursor: pointer;\n",
              "      display: none;\n",
              "      fill: #1967D2;\n",
              "      height: 32px;\n",
              "      padding: 0 0 0 0;\n",
              "      width: 32px;\n",
              "    }\n",
              "\n",
              "    .colab-df-convert:hover {\n",
              "      background-color: #E2EBFA;\n",
              "      box-shadow: 0px 1px 2px rgba(60, 64, 67, 0.3), 0px 1px 3px 1px rgba(60, 64, 67, 0.15);\n",
              "      fill: #174EA6;\n",
              "    }\n",
              "\n",
              "    [theme=dark] .colab-df-convert {\n",
              "      background-color: #3B4455;\n",
              "      fill: #D2E3FC;\n",
              "    }\n",
              "\n",
              "    [theme=dark] .colab-df-convert:hover {\n",
              "      background-color: #434B5C;\n",
              "      box-shadow: 0px 1px 3px 1px rgba(0, 0, 0, 0.15);\n",
              "      filter: drop-shadow(0px 1px 2px rgba(0, 0, 0, 0.3));\n",
              "      fill: #FFFFFF;\n",
              "    }\n",
              "  </style>\n",
              "\n",
              "      <script>\n",
              "        const buttonEl =\n",
              "          document.querySelector('#df-64cdb9d3-479e-477f-9db3-b809a64ef190 button.colab-df-convert');\n",
              "        buttonEl.style.display =\n",
              "          google.colab.kernel.accessAllowed ? 'block' : 'none';\n",
              "\n",
              "        async function convertToInteractive(key) {\n",
              "          const element = document.querySelector('#df-64cdb9d3-479e-477f-9db3-b809a64ef190');\n",
              "          const dataTable =\n",
              "            await google.colab.kernel.invokeFunction('convertToInteractive',\n",
              "                                                     [key], {});\n",
              "          if (!dataTable) return;\n",
              "\n",
              "          const docLinkHtml = 'Like what you see? Visit the ' +\n",
              "            '<a target=\"_blank\" href=https://colab.research.google.com/notebooks/data_table.ipynb>data table notebook</a>'\n",
              "            + ' to learn more about interactive tables.';\n",
              "          element.innerHTML = '';\n",
              "          dataTable['output_type'] = 'display_data';\n",
              "          await google.colab.output.renderOutput(dataTable, element);\n",
              "          const docLink = document.createElement('div');\n",
              "          docLink.innerHTML = docLinkHtml;\n",
              "          element.appendChild(docLink);\n",
              "        }\n",
              "      </script>\n",
              "    </div>\n",
              "  </div>\n",
              "  "
            ]
          },
          "metadata": {},
          "execution_count": 12
        }
      ]
    },
    {
      "cell_type": "code",
      "source": [
        "# plotting histogram of the messages' length\n",
        "import matplotlib.pyplot as plt\n",
        "spam_df['length'].plot(kind='hist', bins = 100)"
      ],
      "metadata": {
        "colab": {
          "base_uri": "https://localhost:8080/",
          "height": 447
        },
        "id": "xf8qrIeuV9zR",
        "outputId": "7a7999d1-f323-4e43-f777-c0c416d4de04"
      },
      "execution_count": 13,
      "outputs": [
        {
          "output_type": "execute_result",
          "data": {
            "text/plain": [
              "<Axes: ylabel='Frequency'>"
            ]
          },
          "metadata": {},
          "execution_count": 13
        },
        {
          "output_type": "display_data",
          "data": {
            "text/plain": [
              "<Figure size 640x480 with 1 Axes>"
            ],
            "image/png": "[encoded data removed]"
          },
          "metadata": {}
        }
      ]
    },
    {
      "cell_type": "code",
      "source": [
        "spam_df['length'].describe()"
      ],
      "metadata": {
        "colab": {
          "base_uri": "https://localhost:8080/"
        },
        "id": "s76Oh0f3daTm",
        "outputId": "d292a045-626c-4870-b0df-dfb46c14f888"
      },
      "execution_count": 14,
      "outputs": [
        {
          "output_type": "execute_result",
          "data": {
            "text/plain": [
              "count    4457.000000\n",
              "mean       80.374018\n",
              "std        60.327453\n",
              "min         2.000000\n",
              "25%        35.000000\n",
              "50%        61.000000\n",
              "75%       122.000000\n",
              "max       910.000000\n",
              "Name: length, dtype: float64"
            ]
          },
          "metadata": {},
          "execution_count": 14
        }
      ]
    },
    {
      "cell_type": "markdown",
      "source": [
        "*Key insights from the EDA:*\n",
        "\n",
        "- Out of the 4457 messages, 3863 are ham (87%) while 594 are spam (13%). It is highly imbalanced.\n",
        "- Out of the 594 spam messages, 522 are unique, the remaining 72 are\n",
        "repeated messages.\n",
        "- There are no missing values.\n",
        "- The shortest messages are ‘ok’ texts.\n",
        "- The vast majority of the texts (over 75%) are betweeon 0 and 200 characters long.\n",
        "- The longest message is 910 characters long.\n"
      ],
      "metadata": {
        "id": "8esFfCETcgBu"
      }
    },
    {
      "cell_type": "markdown",
      "source": [
        "#### Data Pre-Processing"
      ],
      "metadata": {
        "id": "TyKKV_Ucc7_2"
      }
    },
    {
      "cell_type": "code",
      "source": [
        "# Changing spam/ham values to 1/0 as we will be using Logistic Regression to predict future values.\n",
        "# Also, we'll get rid of the previoulsy appended 'length' column.\n",
        "df = spam_df.replace('spam', 1)\n",
        "df = df.replace('ham', 0)\n",
        "df.drop(['length'], axis=1, inplace=True)\n",
        "df"
      ],
      "metadata": {
        "colab": {
          "base_uri": "https://localhost:8080/",
          "height": 423
        },
        "id": "ZRkTzyrgiy1w",
        "outputId": "cd9e24b1-a764-4a67-ac6f-db99ce9d2dc5"
      },
      "execution_count": 15,
      "outputs": [
        {
          "output_type": "execute_result",
          "data": {
            "text/plain": [
              "      Category                                            Message\n",
              "0            0      K I'm leaving soon, be there a little after 9\n",
              "1            0                     No. Yes please. Been swimming?\n",
              "2            0                             It took Mr owl 3 licks\n",
              "3            0  Its going good...no problem..but still need li...\n",
              "4            0  K.. I yan jiu liao... Sat we can go 4 bugis vi...\n",
              "...        ...                                                ...\n",
              "4452         0                            K:)k:)good:)study well.\n",
              "4453         0  Chinatown got porridge, claypot rice, yam cake...\n",
              "4454         0  Hmm... Dunno leh, mayb a bag 4 goigng out dat ...\n",
              "4455         0                           Tell me whos this pls:-)\n",
              "4456         0  You are gorgeous! keep those pix cumming :) th...\n",
              "\n",
              "[4457 rows x 2 columns]"
            ],
            "text/html": [
              "\n",
              "  <div id=\"df-64584474-b9f4-4ae2-9f2e-36d882047358\">\n",
              "    <div class=\"colab-df-container\">\n",
              "      <div>\n",
              "<style scoped>\n",
              "    .dataframe tbody tr th:only-of-type {\n",
              "        vertical-align: middle;\n",
              "    }\n",
              "\n",
              "    .dataframe tbody tr th {\n",
              "        vertical-align: top;\n",
              "    }\n",
              "\n",
              "    .dataframe thead th {\n",
              "        text-align: right;\n",
              "    }\n",
              "</style>\n",
              "<table border=\"1\" class=\"dataframe\">\n",
              "  <thead>\n",
              "    <tr style=\"text-align: right;\">\n",
              "      <th></th>\n",
              "      <th>Category</th>\n",
              "      <th>Message</th>\n",
              "    </tr>\n",
              "  </thead>\n",
              "  <tbody>\n",
              "    <tr>\n",
              "      <th>0</th>\n",
              "      <td>0</td>\n",
              "      <td>K I'm leaving soon, be there a little after 9</td>\n",
              "    </tr>\n",
              "    <tr>\n",
              "      <th>1</th>\n",
              "      <td>0</td>\n",
              "      <td>No. Yes please. Been swimming?</td>\n",
              "    </tr>\n",
              "    <tr>\n",
              "      <th>2</th>\n",
              "      <td>0</td>\n",
              "      <td>It took Mr owl 3 licks</td>\n",
              "    </tr>\n",
              "    <tr>\n",
              "      <th>3</th>\n",
              "      <td>0</td>\n",
              "      <td>Its going good...no problem..but still need li...</td>\n",
              "    </tr>\n",
              "    <tr>\n",
              "      <th>4</th>\n",
              "      <td>0</td>\n",
              "      <td>K.. I yan jiu liao... Sat we can go 4 bugis vi...</td>\n",
              "    </tr>\n",
              "    <tr>\n",
              "      <th>...</th>\n",
              "      <td>...</td>\n",
              "      <td>...</td>\n",
              "    </tr>\n",
              "    <tr>\n",
              "      <th>4452</th>\n",
              "      <td>0</td>\n",
              "      <td>K:)k:)good:)study well.</td>\n",
              "    </tr>\n",
              "    <tr>\n",
              "      <th>4453</th>\n",
              "      <td>0</td>\n",
              "      <td>Chinatown got porridge, claypot rice, yam cake...</td>\n",
              "    </tr>\n",
              "    <tr>\n",
              "      <th>4454</th>\n",
              "      <td>0</td>\n",
              "      <td>Hmm... Dunno leh, mayb a bag 4 goigng out dat ...</td>\n",
              "    </tr>\n",
              "    <tr>\n",
              "      <th>4455</th>\n",
              "      <td>0</td>\n",
              "      <td>Tell me whos this pls:-)</td>\n",
              "    </tr>\n",
              "    <tr>\n",
              "      <th>4456</th>\n",
              "      <td>0</td>\n",
              "      <td>You are gorgeous! keep those pix cumming :) th...</td>\n",
              "    </tr>\n",
              "  </tbody>\n",
              "</table>\n",
              "<p>4457 rows × 2 columns</p>\n",
              "</div>\n",
              "      <button class=\"colab-df-convert\" onclick=\"convertToInteractive('df-64584474-b9f4-4ae2-9f2e-36d882047358')\"\n",
              "              title=\"Convert this dataframe to an interactive table.\"\n",
              "              style=\"display:none;\">\n",
              "        \n",
              "  <svg xmlns=\"http://www.w3.org/2000/svg\" height=\"24px\"viewBox=\"0 0 24 24\"\n",
              "       width=\"24px\">\n",
              "    <path d=\"M0 0h24v24H0V0z\" fill=\"none\"/>\n",
              "    <path d=\"M18.56 5.44l.94 2.06.94-2.06 2.06-.94-2.06-.94-.94-2.06-.94 2.06-2.06.94zm-11 1L8.5 8.5l.94-2.06 2.06-.94-2.06-.94L8.5 2.5l-.94 2.06-2.06.94zm10 10l.94 2.06.94-2.06 2.06-.94-2.06-.94-.94-2.06-.94 2.06-2.06.94z\"/><path d=\"M17.41 7.96l-1.37-1.37c-.4-.4-.92-.59-1.43-.59-.52 0-1.04.2-1.43.59L10.3 9.45l-7.72 7.72c-.78.78-.78 2.05 0 2.83L4 21.41c.39.39.9.59 1.41.59.51 0 1.02-.2 1.41-.59l7.78-7.78 2.81-2.81c.8-.78.8-2.07 0-2.86zM5.41 20L4 18.59l7.72-7.72 1.47 1.35L5.41 20z\"/>\n",
              "  </svg>\n",
              "      </button>\n",
              "      \n",
              "  <style>\n",
              "    .colab-df-container {\n",
              "      display:flex;\n",
              "      flex-wrap:wrap;\n",
              "      gap: 12px;\n",
              "    }\n",
              "\n",
              "    .colab-df-convert {\n",
              "      background-color: #E8F0FE;\n",
              "      border: none;\n",
              "      border-radius: 50%;\n",
              "      cursor: pointer;\n",
              "      display: none;\n",
              "      fill: #1967D2;\n",
              "      height: 32px;\n",
              "      padding: 0 0 0 0;\n",
              "      width: 32px;\n",
              "    }\n",
              "\n",
              "    .colab-df-convert:hover {\n",
              "      background-color: #E2EBFA;\n",
              "      box-shadow: 0px 1px 2px rgba(60, 64, 67, 0.3), 0px 1px 3px 1px rgba(60, 64, 67, 0.15);\n",
              "      fill: #174EA6;\n",
              "    }\n",
              "\n",
              "    [theme=dark] .colab-df-convert {\n",
              "      background-color: #3B4455;\n",
              "      fill: #D2E3FC;\n",
              "    }\n",
              "\n",
              "    [theme=dark] .colab-df-convert:hover {\n",
              "      background-color: #434B5C;\n",
              "      box-shadow: 0px 1px 3px 1px rgba(0, 0, 0, 0.15);\n",
              "      filter: drop-shadow(0px 1px 2px rgba(0, 0, 0, 0.3));\n",
              "      fill: #FFFFFF;\n",
              "    }\n",
              "  </style>\n",
              "\n",
              "      <script>\n",
              "        const buttonEl =\n",
              "          document.querySelector('#df-64584474-b9f4-4ae2-9f2e-36d882047358 button.colab-df-convert');\n",
              "        buttonEl.style.display =\n",
              "          google.colab.kernel.accessAllowed ? 'block' : 'none';\n",
              "\n",
              "        async function convertToInteractive(key) {\n",
              "          const element = document.querySelector('#df-64584474-b9f4-4ae2-9f2e-36d882047358');\n",
              "          const dataTable =\n",
              "            await google.colab.kernel.invokeFunction('convertToInteractive',\n",
              "                                                     [key], {});\n",
              "          if (!dataTable) return;\n",
              "\n",
              "          const docLinkHtml = 'Like what you see? Visit the ' +\n",
              "            '<a target=\"_blank\" href=https://colab.research.google.com/notebooks/data_table.ipynb>data table notebook</a>'\n",
              "            + ' to learn more about interactive tables.';\n",
              "          element.innerHTML = '';\n",
              "          dataTable['output_type'] = 'display_data';\n",
              "          await google.colab.output.renderOutput(dataTable, element);\n",
              "          const docLink = document.createElement('div');\n",
              "          docLink.innerHTML = docLinkHtml;\n",
              "          element.appendChild(docLink);\n",
              "        }\n",
              "      </script>\n",
              "    </div>\n",
              "  </div>\n",
              "  "
            ]
          },
          "metadata": {},
          "execution_count": 15
        }
      ]
    },
    {
      "cell_type": "code",
      "source": [
        "df['Category'].value_counts()"
      ],
      "metadata": {
        "colab": {
          "base_uri": "https://localhost:8080/"
        },
        "id": "pIJ1TaUskDId",
        "outputId": "ae8a1a04-d932-4b40-e4c2-008885256420"
      },
      "execution_count": 16,
      "outputs": [
        {
          "output_type": "execute_result",
          "data": {
            "text/plain": [
              "0    3863\n",
              "1     594\n",
              "Name: Category, dtype: int64"
            ]
          },
          "metadata": {},
          "execution_count": 16
        }
      ]
    },
    {
      "cell_type": "code",
      "source": [
        "# Using Count Vectorizer to transform text into numerical values.\n",
        "from sklearn.feature_extraction.text import CountVectorizer\n",
        "vectorizer = CountVectorizer()\n",
        "X = vectorizer.fit_transform(df['Message'])"
      ],
      "metadata": {
        "id": "m5g0AF9Mhgtx"
      },
      "execution_count": 17,
      "outputs": []
    },
    {
      "cell_type": "code",
      "source": [
        "# Visualizing some of the unique words found in all the messages.\n",
        "print(vectorizer.get_feature_names_out()[0:20]) # 'head'\n",
        "print(vectorizer.get_feature_names_out()[-20:-1]) # 'tail'\n",
        "print(len(vectorizer.get_feature_names_out())) # There are 7718 distinct words in all our messages."
      ],
      "metadata": {
        "colab": {
          "base_uri": "https://localhost:8080/"
        },
        "id": "_2mFeCwGmbNH",
        "outputId": "5a8d5c56-f037-4550-f4a3-b6d16768487d"
      },
      "execution_count": 18,
      "outputs": [
        {
          "output_type": "stream",
          "name": "stdout",
          "text": [
            "['00' '000' '000pes' '008704050406' '0089' '0121' '01223585236'\n",
            " '01223585334' '0125698789' '02' '0207' '02072069400' '02073162414'\n",
            " '02085076972' '021' '03' '04' '0430' '05' '050703']\n",
            "['yoyyooo' 'yr' 'yrs' 'ystrday' 'ything' 'yummy' 'yun' 'yunny' 'yuo' 'yup'\n",
            " 'zaher' 'zealand' 'zed' 'zeros' 'zhong' 'zindgi' 'zoe' 'zouk' 'zyada']\n",
            "7718\n"
          ]
        }
      ]
    },
    {
      "cell_type": "code",
      "source": [
        "# This matrix has 4457 rows (one for each message). In each row, a 0 means that the word in the position n from the vector built above\n",
        "# is contained in the message. Conversely, a 1 means that the word in position n from the vector built above is in the message.\n",
        "print(X.toarray())"
      ],
      "metadata": {
        "colab": {
          "base_uri": "https://localhost:8080/"
        },
        "id": "12x6vhi5mwtu",
        "outputId": "a4672fca-c957-4355-a409-c3778e0bbf64"
      },
      "execution_count": 19,
      "outputs": [
        {
          "output_type": "stream",
          "name": "stdout",
          "text": [
            "[[0 0 0 ... 0 0 0]\n",
            " [0 0 0 ... 0 0 0]\n",
            " [0 0 0 ... 0 0 0]\n",
            " ...\n",
            " [0 0 0 ... 0 0 0]\n",
            " [0 0 0 ... 0 0 0]\n",
            " [0 0 0 ... 0 0 0]]\n"
          ]
        }
      ]
    },
    {
      "cell_type": "code",
      "source": [
        "X.shape # we see 4457 messages, each with a vector of size 7718 with 0s and 1s indicating which words are contained in its message."
      ],
      "metadata": {
        "colab": {
          "base_uri": "https://localhost:8080/"
        },
        "id": "SYygPpEMm3ZR",
        "outputId": "b78108c5-1003-4adb-9ad8-37294abb8f91"
      },
      "execution_count": 20,
      "outputs": [
        {
          "output_type": "execute_result",
          "data": {
            "text/plain": [
              "(4457, 7718)"
            ]
          },
          "metadata": {},
          "execution_count": 20
        }
      ]
    },
    {
      "cell_type": "code",
      "source": [
        "y = df['Category']\n",
        "y.shape"
      ],
      "metadata": {
        "colab": {
          "base_uri": "https://localhost:8080/"
        },
        "id": "YB4Rog-CoXK4",
        "outputId": "f40b6c5b-a29d-4e30-e192-9022bb08acf9"
      },
      "execution_count": 21,
      "outputs": [
        {
          "output_type": "execute_result",
          "data": {
            "text/plain": [
              "(4457,)"
            ]
          },
          "metadata": {},
          "execution_count": 21
        }
      ]
    },
    {
      "cell_type": "code",
      "source": [
        "# Splitting the data into train and test split. Although the instructor has kept 20% of the data aside to evaluate the model,\n",
        "# I will split it to validate it internally.\n",
        "from sklearn.model_selection import train_test_split\n",
        "X_train, X_test, y_train, y_test = train_test_split(X, y, test_size=0.2)"
      ],
      "metadata": {
        "id": "RPRrkKD8oiTx"
      },
      "execution_count": 22,
      "outputs": []
    },
    {
      "cell_type": "code",
      "source": [
        "print(X_train.shape)\n",
        "print(X_test.shape)\n",
        "print(y_train.shape)\n",
        "print(y_test.shape)"
      ],
      "metadata": {
        "colab": {
          "base_uri": "https://localhost:8080/"
        },
        "id": "_rslDTLJpXnE",
        "outputId": "ab414930-f0ec-4404-f36f-5250c52dbc4b"
      },
      "execution_count": 23,
      "outputs": [
        {
          "output_type": "stream",
          "name": "stdout",
          "text": [
            "(3565, 7718)\n",
            "(892, 7718)\n",
            "(3565,)\n",
            "(892,)\n"
          ]
        }
      ]
    },
    {
      "cell_type": "markdown",
      "source": [
        "#### Creating Logistic Regression Model"
      ],
      "metadata": {
        "id": "r2EQctVtpjod"
      }
    },
    {
      "cell_type": "code",
      "source": [
        "# defining possible parameters for Logistic Regression.\n",
        "# https://scikit-learn.org/stable/modules/generated/sklearn.linear_model.LogisticRegression.html\n",
        "\n",
        "param = {\n",
        "    'penalty': ['l2'], # as requested by the instructor\n",
        "    'tol': [1e-5, 1e-4, 1e-3, 1e-2, 1e-1, 1, 10, 100],\n",
        "    'C':[0.5, 1.0, 2,0, 4.0, 10.0],\n",
        "    'solver':['lbfgs', 'liblinear', 'newton-cg', 'sag'],\n",
        "    }"
      ],
      "metadata": {
        "id": "8aCY14rnppj8"
      },
      "execution_count": 24,
      "outputs": []
    },
    {
      "cell_type": "code",
      "source": [
        "# Preparing to do 5-Fold Cross Validation.\n",
        "from sklearn.model_selection import RepeatedKFold\n",
        "cv = RepeatedKFold(n_splits=5, n_repeats=3)"
      ],
      "metadata": {
        "id": "Iqv05ZOYrGDv"
      },
      "execution_count": 25,
      "outputs": []
    },
    {
      "cell_type": "code",
      "source": [
        "# Looking for the optimal model with 5-Fold Cross Validation and GridSearch.\n",
        "from sklearn.model_selection import GridSearchCV\n",
        "from sklearn.linear_model import LogisticRegression\n",
        "\n",
        "# defining search\n",
        "search_ridge = GridSearchCV(LogisticRegression(), param, n_jobs=-1, cv=cv)\n",
        "# execute search\n",
        "result = search_ridge.fit(X_train, y_train)"
      ],
      "metadata": {
        "colab": {
          "base_uri": "https://localhost:8080/"
        },
        "id": "GWDk3dwdrH4f",
        "outputId": "e5c74ab0-38fd-4c57-cff5-5fc5af1031db"
      },
      "execution_count": 26,
      "outputs": [
        {
          "output_type": "stream",
          "name": "stderr",
          "text": [
            "/usr/local/lib/python3.10/dist-packages/sklearn/model_selection/_validation.py:378: FitFailedWarning: \n",
            "480 fits failed out of a total of 2880.\n",
            "The score on these train-test partitions for these parameters will be set to nan.\n",
            "If these failures are not expected, you can try to debug them by setting error_score='raise'.\n",
            "\n",
            "Below are more details about the failures:\n",
            "--------------------------------------------------------------------------------\n",
            "480 fits failed with the following error:\n",
            "Traceback (most recent call last):\n",
            "  File \"/usr/local/lib/python3.10/dist-packages/sklearn/model_selection/_validation.py\", line 686, in _fit_and_score\n",
            "    estimator.fit(X_train, y_train, **fit_params)\n",
            "  File \"/usr/local/lib/python3.10/dist-packages/sklearn/linear_model/_logistic.py\", line 1160, in fit\n",
            "    self._validate_params()\n",
            "  File \"/usr/local/lib/python3.10/dist-packages/sklearn/base.py\", line 600, in _validate_params\n",
            "    validate_parameter_constraints(\n",
            "  File \"/usr/local/lib/python3.10/dist-packages/sklearn/utils/_param_validation.py\", line 97, in validate_parameter_constraints\n",
            "    raise InvalidParameterError(\n",
            "sklearn.utils._param_validation.InvalidParameterError: The 'C' parameter of LogisticRegression must be a float in the range (0, inf]. Got 0 instead.\n",
            "\n",
            "  warnings.warn(some_fits_failed_message, FitFailedWarning)\n",
            "/usr/local/lib/python3.10/dist-packages/sklearn/model_selection/_search.py:952: UserWarning: One or more of the test scores are non-finite: [0.9769051  0.9769051  0.9769051  0.9769051  0.9769051  0.9769986\n",
            " 0.96830295 0.92940626 0.97746611 0.97746611 0.97765311 0.97774661\n",
            " 0.97802712 0.97597008 0.86563815 0.86563815 0.9769051  0.9769051\n",
            " 0.9769051  0.9769051  0.9769051  0.9770921  0.97746611 0.96484338\n",
            " 0.97662459 0.97662459 0.97662459 0.97288453 0.95895278 0.91650304\n",
            " 0.91874708 0.91528752 0.97830762 0.97830762 0.97830762 0.97830762\n",
            " 0.97821412 0.97849462 0.96830295 0.92959327 0.97905563 0.97905563\n",
            " 0.97905563 0.97924264 0.97914914 0.97606358 0.86563815 0.86563815\n",
            " 0.97830762 0.97830762 0.97830762 0.97830762 0.97830762 0.97858813\n",
            " 0.97914914 0.9659654  0.97671809 0.97681159 0.97681159 0.97307153\n",
            " 0.95792426 0.91865358 0.91697055 0.91725105 0.97933614 0.97933614\n",
            " 0.97933614 0.97942964 0.97961664 0.97989715 0.96848995 0.92949977\n",
            " 0.98036466 0.98036466 0.98027115 0.98036466 0.98036466 0.97606358\n",
            " 0.86563815 0.86563815 0.97933614 0.97933614 0.97933614 0.97933614\n",
            " 0.97971014 0.97980365 0.98027115 0.96605891 0.97671809 0.97662459\n",
            " 0.97653109 0.97279102 0.95913978 0.91827957 0.91697055 0.91865358\n",
            "        nan        nan        nan        nan        nan        nan\n",
            "        nan        nan        nan        nan        nan        nan\n",
            "        nan        nan        nan        nan        nan        nan\n",
            "        nan        nan        nan        nan        nan        nan\n",
            "        nan        nan        nan        nan        nan        nan\n",
            "        nan        nan 0.98017765 0.98017765 0.98017765 0.98017765\n",
            " 0.98017765 0.98055166 0.96867695 0.92949977 0.98073866 0.98073866\n",
            " 0.98064516 0.98055166 0.98073866 0.97634409 0.86563815 0.86563815\n",
            " 0.98017765 0.98017765 0.98017765 0.98017765 0.98008415 0.97999065\n",
            " 0.98045816 0.96624591 0.97643759 0.97643759 0.97625058 0.97325853\n",
            " 0.95932679 0.9145395  0.91734455 0.91799906 0.98055166 0.98055166\n",
            " 0.98055166 0.98055166 0.98055166 0.98139317 0.96867695 0.92949977\n",
            " 0.98101917 0.98101917 0.98101917 0.98092567 0.98139317 0.97643759\n",
            " 0.86563815 0.86563815 0.98055166 0.98055166 0.98055166 0.98055166\n",
            " 0.98045816 0.98092567 0.98008415 0.96624591 0.97625058 0.97634409\n",
            " 0.97625058 0.97325853 0.95932679 0.91622253 0.91678354 0.91790556]\n",
            "  warnings.warn(\n"
          ]
        }
      ]
    },
    {
      "cell_type": "code",
      "source": [
        "# summarize result\n",
        "print('Best Score: %s' % result.best_score_)\n",
        "print('Best Hyperparameters: %s' % result.best_params_)"
      ],
      "metadata": {
        "colab": {
          "base_uri": "https://localhost:8080/"
        },
        "id": "nODvSNzbsRcl",
        "outputId": "ab0970e4-ff90-4067-d5a1-1d6746c75275"
      },
      "execution_count": 27,
      "outputs": [
        {
          "output_type": "stream",
          "name": "stdout",
          "text": [
            "Best Score: 0.9813931743805516\n",
            "Best Hyperparameters: {'C': 10.0, 'penalty': 'l2', 'solver': 'lbfgs', 'tol': 1}\n"
          ]
        }
      ]
    },
    {
      "cell_type": "markdown",
      "source": [
        "#### Fitting LogModel"
      ],
      "metadata": {
        "id": "x4VamYTFvwqS"
      }
    },
    {
      "cell_type": "code",
      "source": [
        "logmodel = LogisticRegression(penalty=\"l2\", C=10.0, solver='lbfgs', tol=1) # Fitting model with suggested params\n",
        "logmodel.fit(X_train, y_train)   # fitting model\n",
        "y_hat = logmodel.predict(X_test) # predicting values"
      ],
      "metadata": {
        "id": "N3hWvaBysner"
      },
      "execution_count": 28,
      "outputs": []
    },
    {
      "cell_type": "markdown",
      "source": [
        "#### Testing LogModel"
      ],
      "metadata": {
        "id": "RJs1Wu_Dv01E"
      }
    },
    {
      "cell_type": "code",
      "source": [
        "#Import scikit-learn metrics module for accuracy calculation\n",
        "from sklearn import metrics\n",
        "# Model Accuracy, how often is the classifier correct?\n",
        "print(\"Accuracy:\",metrics.accuracy_score(y_test, y_hat))"
      ],
      "metadata": {
        "colab": {
          "base_uri": "https://localhost:8080/"
        },
        "id": "l6CWxN991L1f",
        "outputId": "53fe3b7b-c683-480f-e6ad-675b5df2388c"
      },
      "execution_count": 29,
      "outputs": [
        {
          "output_type": "stream",
          "name": "stdout",
          "text": [
            "Accuracy: 0.984304932735426\n"
          ]
        }
      ]
    },
    {
      "cell_type": "code",
      "source": [
        "# Check the model performance\n",
        "from sklearn.metrics import classification_report, confusion_matrix\n",
        "print(classification_report(y_test, y_hat))"
      ],
      "metadata": {
        "colab": {
          "base_uri": "https://localhost:8080/"
        },
        "id": "Rjl5rmuUvVHO",
        "outputId": "985ece85-2006-40af-d2a0-50cbe631189a"
      },
      "execution_count": 30,
      "outputs": [
        {
          "output_type": "stream",
          "name": "stdout",
          "text": [
            "              precision    recall  f1-score   support\n",
            "\n",
            "           0       0.98      1.00      0.99       777\n",
            "           1       0.99      0.89      0.94       115\n",
            "\n",
            "    accuracy                           0.98       892\n",
            "   macro avg       0.99      0.94      0.96       892\n",
            "weighted avg       0.98      0.98      0.98       892\n",
            "\n"
          ]
        }
      ]
    },
    {
      "cell_type": "code",
      "source": [
        "import seaborn as sns\n",
        "%matplotlib inline\n",
        "cm = confusion_matrix(y_test, y_hat)\n",
        "sns.heatmap(cm, annot=True)"
      ],
      "metadata": {
        "colab": {
          "base_uri": "https://localhost:8080/",
          "height": 447
        },
        "id": "pVlYOiJFwRA6",
        "outputId": "cce0d7ff-8ddc-4831-9c1b-4ca1d8502e81"
      },
      "execution_count": 31,
      "outputs": [
        {
          "output_type": "execute_result",
          "data": {
            "text/plain": [
              "<Axes: >"
            ]
          },
          "metadata": {},
          "execution_count": 31
        },
        {
          "output_type": "display_data",
          "data": {
            "text/plain": [
              "<Figure size 640x480 with 2 Axes>"
            ],
            "image/png": "[encoded data removed]"
          },
          "metadata": {}
        }
      ]
    },
    {
      "cell_type": "markdown",
      "source": [
        "We get very good results with the logistic regression model after doing k-cross validationa and GridSearch."
      ],
      "metadata": {
        "id": "tE8mSqZHv5Ha"
      }
    },
    {
      "cell_type": "markdown",
      "source": [
        "#### Creating Random Forest Classifier"
      ],
      "metadata": {
        "id": "sUN37kg4wAzZ"
      }
    },
    {
      "cell_type": "code",
      "source": [
        "# defining possible parameters for RFC.\n",
        "# https://scikit-learn.org/stable/modules/generated/sklearn.ensemble.RandomForestClassifier.html\n",
        "\n",
        "param = {\n",
        "    'n_estimators': [100, 150, 200],\n",
        "    'criterion': ['gini', 'entropy'],\n",
        "    'max_depth': [1,2,3],\n",
        "    'min_samples_split':[2, 4, 6]\n",
        "    }"
      ],
      "metadata": {
        "id": "v41o-P-axET4"
      },
      "execution_count": 32,
      "outputs": []
    },
    {
      "cell_type": "code",
      "source": [
        "# Preparing to do 5-Fold Cross Validation.\n",
        "cv = RepeatedKFold(n_splits=5, n_repeats=3)"
      ],
      "metadata": {
        "id": "6-rT9kBgxm0Q"
      },
      "execution_count": 33,
      "outputs": []
    },
    {
      "cell_type": "code",
      "source": [
        "# Looking for the optimal model with 5-Fold Cross Validation and GridSearch.\n",
        "from sklearn.model_selection import GridSearchCV\n",
        "from sklearn.ensemble import RandomForestClassifier\n",
        "\n",
        "# defining search\n",
        "search_ridge = GridSearchCV(RandomForestClassifier(), param, n_jobs=-1, cv=cv)\n",
        "# execute search\n",
        "result = search_ridge.fit(X_train, y_train)"
      ],
      "metadata": {
        "id": "3ncJjPsYxjn4"
      },
      "execution_count": 34,
      "outputs": []
    },
    {
      "cell_type": "code",
      "source": [
        "# summarize result\n",
        "print('Best Score: %s' % result.best_score_)\n",
        "print('Best Hyperparameters: %s' % result.best_params_)"
      ],
      "metadata": {
        "colab": {
          "base_uri": "https://localhost:8080/"
        },
        "id": "-atm3f4SI3ad",
        "outputId": "e5d3bcdb-d20a-49b3-a663-38ebd719a59d"
      },
      "execution_count": 35,
      "outputs": [
        {
          "output_type": "stream",
          "name": "stdout",
          "text": [
            "Best Score: 0.8656381486676016\n",
            "Best Hyperparameters: {'criterion': 'gini', 'max_depth': 1, 'min_samples_split': 2, 'n_estimators': 100}\n"
          ]
        }
      ]
    },
    {
      "cell_type": "markdown",
      "source": [
        "#### Fitting RFC"
      ],
      "metadata": {
        "id": "8yPKwN4j266M"
      }
    },
    {
      "cell_type": "code",
      "source": [
        "from sklearn.ensemble import RandomForestClassifier\n",
        "\n",
        "# Create Random Forest classifer object\n",
        "rfc = RandomForestClassifier(criterion='gini', max_depth=1, min_samples_split=2, n_estimators=100)\n",
        "\n",
        "# Train Random Forest Classifer\n",
        "rfc.fit(X_train, y_train)\n",
        "\n",
        "#Predict the response for test dataset\n",
        "y_pred=rfc.predict(X_test)"
      ],
      "metadata": {
        "id": "vFKYJJ7Uw2nO"
      },
      "execution_count": 36,
      "outputs": []
    },
    {
      "cell_type": "markdown",
      "source": [
        "#### Testing RFC"
      ],
      "metadata": {
        "id": "zRyrWVuv29wM"
      }
    },
    {
      "cell_type": "code",
      "source": [
        "#Import scikit-learn metrics module for accuracy calculation\n",
        "from sklearn import metrics\n",
        "# Model Accuracy, how often is the classifier correct?\n",
        "print(\"Accuracy:\",metrics.accuracy_score(y_test, y_pred))"
      ],
      "metadata": {
        "colab": {
          "base_uri": "https://localhost:8080/"
        },
        "id": "O4IH8Dkl1G9w",
        "outputId": "2eb2547e-63b4-45ce-dc16-8332b37c0ec2"
      },
      "execution_count": 37,
      "outputs": [
        {
          "output_type": "stream",
          "name": "stdout",
          "text": [
            "Accuracy: 0.8710762331838565\n"
          ]
        }
      ]
    },
    {
      "cell_type": "code",
      "source": [
        "# Check the model performance\n",
        "from sklearn.metrics import classification_report, confusion_matrix\n",
        "print(classification_report(y_test, y_pred))"
      ],
      "metadata": {
        "colab": {
          "base_uri": "https://localhost:8080/"
        },
        "id": "p6kk-g9H1dF3",
        "outputId": "ed2858f6-49d4-4a5a-fbdd-836c7410d9f3"
      },
      "execution_count": 38,
      "outputs": [
        {
          "output_type": "stream",
          "name": "stdout",
          "text": [
            "              precision    recall  f1-score   support\n",
            "\n",
            "           0       0.87      1.00      0.93       777\n",
            "           1       0.00      0.00      0.00       115\n",
            "\n",
            "    accuracy                           0.87       892\n",
            "   macro avg       0.44      0.50      0.47       892\n",
            "weighted avg       0.76      0.87      0.81       892\n",
            "\n"
          ]
        },
        {
          "output_type": "stream",
          "name": "stderr",
          "text": [
            "/usr/local/lib/python3.10/dist-packages/sklearn/metrics/_classification.py:1344: UndefinedMetricWarning: Precision and F-score are ill-defined and being set to 0.0 in labels with no predicted samples. Use `zero_division` parameter to control this behavior.\n",
            "  _warn_prf(average, modifier, msg_start, len(result))\n",
            "/usr/local/lib/python3.10/dist-packages/sklearn/metrics/_classification.py:1344: UndefinedMetricWarning: Precision and F-score are ill-defined and being set to 0.0 in labels with no predicted samples. Use `zero_division` parameter to control this behavior.\n",
            "  _warn_prf(average, modifier, msg_start, len(result))\n",
            "/usr/local/lib/python3.10/dist-packages/sklearn/metrics/_classification.py:1344: UndefinedMetricWarning: Precision and F-score are ill-defined and being set to 0.0 in labels with no predicted samples. Use `zero_division` parameter to control this behavior.\n",
            "  _warn_prf(average, modifier, msg_start, len(result))\n"
          ]
        }
      ]
    },
    {
      "cell_type": "code",
      "source": [
        "cm = confusion_matrix(y_test, y_pred)\n",
        "sns.heatmap(cm, annot=True)"
      ],
      "metadata": {
        "colab": {
          "base_uri": "https://localhost:8080/",
          "height": 447
        },
        "id": "-9h_6JTh1hXN",
        "outputId": "96758639-d7b4-4b07-cdaf-d816183f7219"
      },
      "execution_count": 39,
      "outputs": [
        {
          "output_type": "execute_result",
          "data": {
            "text/plain": [
              "<Axes: >"
            ]
          },
          "metadata": {},
          "execution_count": 39
        },
        {
          "output_type": "display_data",
          "data": {
            "text/plain": [
              "<Figure size 640x480 with 2 Axes>"
            ],
            "image/png": "[encoded data removed]"
          },
          "metadata": {}
        }
      ]
    },
    {
      "cell_type": "markdown",
      "source": [
        "We can see that the model with the RFC is a lot worse. No spam was correctly identified. I am not sure why this is, as ensemble learning is much more powerful than using a single classificator."
      ],
      "metadata": {
        "id": "C5TY0g2c2MeW"
      }
    },
    {
      "cell_type": "markdown",
      "source": [
        "# Question 2\n",
        "\n",
        "The information gathered is from the DAEWOO Steel Co. Ltd in Gwangyang, South Korea. It produces several types of coils, steel plates, and iron plates. The information on electricity consumption is held in a cloud-based system. The information on energy consumption of the industry is stored on the website of the Korea Electric Power Corporation (pccs.kepco.go.kr), and the perspectives on daily, monthly, and annual data are calculated and shown.\n",
        "\n",
        "\n",
        "\n",
        "Attribute Information:\n",
        "\n",
        "Data Variables Type Measurement\n",
        "\n",
        "Industry Energy Consumption Continuous kWh\n",
        "\n",
        "Lagging Current reactive power Continuous kVarh\n",
        "\n",
        "Leading Current reactive power Continuous kVarh\n",
        "\n",
        "tCO2(CO2) Continuous ppm\n",
        "\n",
        "Lagging Current power factor Continuous %\n",
        "\n",
        "Leading Current Power factor Continuous %\n",
        "\n",
        "Number of Seconds from midnight Continuous S\n",
        "\n",
        "Week status Categorical (Weekend (0) or a Weekday(1))\n",
        "\n",
        "Day of week Categorical Sunday, Monday and Saturday\n",
        "\n",
        "Load Type Categorical Light Load, Medium Load, Maximum Load\n",
        "\n",
        "\n",
        "\n",
        "\n",
        "\n",
        "---\n",
        "### Apply Linear regression on the dataset above to build a model with Energy Consumption as the Target Variable.\n",
        "\n",
        "### Deliverables:\n",
        "\n",
        "\n",
        "1.   **Perform EDA first, delete the date column and check for nulls in the data. Also check for cross correlation among attributes. If high cross-correlation present between any attributes, append the new correlated attributes to the data as a new column (such as x1*x2, where x1 and x2 are sample attributes in the dataset). Keep the cross correlation linear and exclude polynomial attributes. [4 Marks]**\n",
        "\n",
        "2. **Use the SGD Regressor class with scaling in your model [3 Marks].**\n",
        "\n",
        "3. **Use repeated k cross fold with 2 repeats and k = 5. [3 Marks]**\n",
        "\n",
        "4. **Optimize and find the optimal hyperparameters of tolerance and alpha. [3 Marks]**\n",
        "\n",
        "5. **Use Elastic net regularization and find its optimal parameters for the model. [2 Marks]**"
      ],
      "metadata": {
        "id": "e9NMkylXGRvc"
      }
    },
    {
      "cell_type": "code",
      "source": [
        "steel = pd.read_csv(\"Steel_industry_data.csv\")"
      ],
      "metadata": {
        "id": "c0Zb8aF34fys"
      },
      "execution_count": 40,
      "outputs": []
    },
    {
      "cell_type": "code",
      "source": [
        "steel"
      ],
      "metadata": {
        "colab": {
          "base_uri": "https://localhost:8080/",
          "height": 661
        },
        "id": "M_T9bui54pJJ",
        "outputId": "c3d83683-33d5-496b-a73f-7f144196e42b"
      },
      "execution_count": 41,
      "outputs": [
        {
          "output_type": "execute_result",
          "data": {
            "text/plain": [
              "                   date  Usage_kWh  Lagging_Current_Reactive.Power_kVarh  \\\n",
              "0      01/01/2018 00:15       3.17                                  2.95   \n",
              "1      01/01/2018 00:30       4.00                                  4.46   \n",
              "2      01/01/2018 00:45       3.24                                  3.28   \n",
              "3      01/01/2018 01:00       3.31                                  3.56   \n",
              "4      01/01/2018 01:15       3.82                                  4.50   \n",
              "...                 ...        ...                                   ...   \n",
              "35035  31/12/2018 23:00       3.85                                  4.86   \n",
              "35036  31/12/2018 23:15       3.74                                  3.74   \n",
              "35037  31/12/2018 23:30       3.78                                  3.17   \n",
              "35038  31/12/2018 23:45       3.78                                  3.06   \n",
              "35039  31/12/2018 00:00       3.67                                  3.02   \n",
              "\n",
              "       Leading_Current_Reactive_Power_kVarh  CO2(tCO2)  \\\n",
              "0                                      0.00        0.0   \n",
              "1                                      0.00        0.0   \n",
              "2                                      0.00        0.0   \n",
              "3                                      0.00        0.0   \n",
              "4                                      0.00        0.0   \n",
              "...                                     ...        ...   \n",
              "35035                                  0.00        0.0   \n",
              "35036                                  0.00        0.0   \n",
              "35037                                  0.07        0.0   \n",
              "35038                                  0.11        0.0   \n",
              "35039                                  0.07        0.0   \n",
              "\n",
              "       Lagging_Current_Power_Factor  Leading_Current_Power_Factor    NSM  \\\n",
              "0                             73.21                        100.00    900   \n",
              "1                             66.77                        100.00   1800   \n",
              "2                             70.28                        100.00   2700   \n",
              "3                             68.09                        100.00   3600   \n",
              "4                             64.72                        100.00   4500   \n",
              "...                             ...                           ...    ...   \n",
              "35035                         62.10                        100.00  82800   \n",
              "35036                         70.71                        100.00  83700   \n",
              "35037                         76.62                         99.98  84600   \n",
              "35038                         77.72                         99.96  85500   \n",
              "35039                         77.22                         99.98      0   \n",
              "\n",
              "      WeekStatus Day_of_week   Load_Type  \n",
              "0        Weekday      Monday  Light_Load  \n",
              "1        Weekday      Monday  Light_Load  \n",
              "2        Weekday      Monday  Light_Load  \n",
              "3        Weekday      Monday  Light_Load  \n",
              "4        Weekday      Monday  Light_Load  \n",
              "...          ...         ...         ...  \n",
              "35035    Weekday      Monday  Light_Load  \n",
              "35036    Weekday      Monday  Light_Load  \n",
              "35037    Weekday      Monday  Light_Load  \n",
              "35038    Weekday      Monday  Light_Load  \n",
              "35039    Weekday      Monday  Light_Load  \n",
              "\n",
              "[35040 rows x 11 columns]"
            ],
            "text/html": [
              "\n",
              "  <div id=\"df-28e447fb-1fc1-4962-baea-1a9d9f54e383\">\n",
              "    <div class=\"colab-df-container\">\n",
              "      <div>\n",
              "<style scoped>\n",
              "    .dataframe tbody tr th:only-of-type {\n",
              "        vertical-align: middle;\n",
              "    }\n",
              "\n",
              "    .dataframe tbody tr th {\n",
              "        vertical-align: top;\n",
              "    }\n",
              "\n",
              "    .dataframe thead th {\n",
              "        text-align: right;\n",
              "    }\n",
              "</style>\n",
              "<table border=\"1\" class=\"dataframe\">\n",
              "  <thead>\n",
              "    <tr style=\"text-align: right;\">\n",
              "      <th></th>\n",
              "      <th>date</th>\n",
              "      <th>Usage_kWh</th>\n",
              "      <th>Lagging_Current_Reactive.Power_kVarh</th>\n",
              "      <th>Leading_Current_Reactive_Power_kVarh</th>\n",
              "      <th>CO2(tCO2)</th>\n",
              "      <th>Lagging_Current_Power_Factor</th>\n",
              "      <th>Leading_Current_Power_Factor</th>\n",
              "      <th>NSM</th>\n",
              "      <th>WeekStatus</th>\n",
              "      <th>Day_of_week</th>\n",
              "      <th>Load_Type</th>\n",
              "    </tr>\n",
              "  </thead>\n",
              "  <tbody>\n",
              "    <tr>\n",
              "      <th>0</th>\n",
              "      <td>01/01/2018 00:15</td>\n",
              "      <td>3.17</td>\n",
              "      <td>2.95</td>\n",
              "      <td>0.00</td>\n",
              "      <td>0.0</td>\n",
              "      <td>73.21</td>\n",
              "      <td>100.00</td>\n",
              "      <td>900</td>\n",
              "      <td>Weekday</td>\n",
              "      <td>Monday</td>\n",
              "      <td>Light_Load</td>\n",
              "    </tr>\n",
              "    <tr>\n",
              "      <th>1</th>\n",
              "      <td>01/01/2018 00:30</td>\n",
              "      <td>4.00</td>\n",
              "      <td>4.46</td>\n",
              "      <td>0.00</td>\n",
              "      <td>0.0</td>\n",
              "      <td>66.77</td>\n",
              "      <td>100.00</td>\n",
              "      <td>1800</td>\n",
              "      <td>Weekday</td>\n",
              "      <td>Monday</td>\n",
              "      <td>Light_Load</td>\n",
              "    </tr>\n",
              "    <tr>\n",
              "      <th>2</th>\n",
              "      <td>01/01/2018 00:45</td>\n",
              "      <td>3.24</td>\n",
              "      <td>3.28</td>\n",
              "      <td>0.00</td>\n",
              "      <td>0.0</td>\n",
              "      <td>70.28</td>\n",
              "      <td>100.00</td>\n",
              "      <td>2700</td>\n",
              "      <td>Weekday</td>\n",
              "      <td>Monday</td>\n",
              "      <td>Light_Load</td>\n",
              "    </tr>\n",
              "    <tr>\n",
              "      <th>3</th>\n",
              "      <td>01/01/2018 01:00</td>\n",
              "      <td>3.31</td>\n",
              "      <td>3.56</td>\n",
              "      <td>0.00</td>\n",
              "      <td>0.0</td>\n",
              "      <td>68.09</td>\n",
              "      <td>100.00</td>\n",
              "      <td>3600</td>\n",
              "      <td>Weekday</td>\n",
              "      <td>Monday</td>\n",
              "      <td>Light_Load</td>\n",
              "    </tr>\n",
              "    <tr>\n",
              "      <th>4</th>\n",
              "      <td>01/01/2018 01:15</td>\n",
              "      <td>3.82</td>\n",
              "      <td>4.50</td>\n",
              "      <td>0.00</td>\n",
              "      <td>0.0</td>\n",
              "      <td>64.72</td>\n",
              "      <td>100.00</td>\n",
              "      <td>4500</td>\n",
              "      <td>Weekday</td>\n",
              "      <td>Monday</td>\n",
              "      <td>Light_Load</td>\n",
              "    </tr>\n",
              "    <tr>\n",
              "      <th>...</th>\n",
              "      <td>...</td>\n",
              "      <td>...</td>\n",
              "      <td>...</td>\n",
              "      <td>...</td>\n",
              "      <td>...</td>\n",
              "      <td>...</td>\n",
              "      <td>...</td>\n",
              "      <td>...</td>\n",
              "      <td>...</td>\n",
              "      <td>...</td>\n",
              "      <td>...</td>\n",
              "    </tr>\n",
              "    <tr>\n",
              "      <th>35035</th>\n",
              "      <td>31/12/2018 23:00</td>\n",
              "      <td>3.85</td>\n",
              "      <td>4.86</td>\n",
              "      <td>0.00</td>\n",
              "      <td>0.0</td>\n",
              "      <td>62.10</td>\n",
              "      <td>100.00</td>\n",
              "      <td>82800</td>\n",
              "      <td>Weekday</td>\n",
              "      <td>Monday</td>\n",
              "      <td>Light_Load</td>\n",
              "    </tr>\n",
              "    <tr>\n",
              "      <th>35036</th>\n",
              "      <td>31/12/2018 23:15</td>\n",
              "      <td>3.74</td>\n",
              "      <td>3.74</td>\n",
              "      <td>0.00</td>\n",
              "      <td>0.0</td>\n",
              "      <td>70.71</td>\n",
              "      <td>100.00</td>\n",
              "      <td>83700</td>\n",
              "      <td>Weekday</td>\n",
              "      <td>Monday</td>\n",
              "      <td>Light_Load</td>\n",
              "    </tr>\n",
              "    <tr>\n",
              "      <th>35037</th>\n",
              "      <td>31/12/2018 23:30</td>\n",
              "      <td>3.78</td>\n",
              "      <td>3.17</td>\n",
              "      <td>0.07</td>\n",
              "      <td>0.0</td>\n",
              "      <td>76.62</td>\n",
              "      <td>99.98</td>\n",
              "      <td>84600</td>\n",
              "      <td>Weekday</td>\n",
              "      <td>Monday</td>\n",
              "      <td>Light_Load</td>\n",
              "    </tr>\n",
              "    <tr>\n",
              "      <th>35038</th>\n",
              "      <td>31/12/2018 23:45</td>\n",
              "      <td>3.78</td>\n",
              "      <td>3.06</td>\n",
              "      <td>0.11</td>\n",
              "      <td>0.0</td>\n",
              "      <td>77.72</td>\n",
              "      <td>99.96</td>\n",
              "      <td>85500</td>\n",
              "      <td>Weekday</td>\n",
              "      <td>Monday</td>\n",
              "      <td>Light_Load</td>\n",
              "    </tr>\n",
              "    <tr>\n",
              "      <th>35039</th>\n",
              "      <td>31/12/2018 00:00</td>\n",
              "      <td>3.67</td>\n",
              "      <td>3.02</td>\n",
              "      <td>0.07</td>\n",
              "      <td>0.0</td>\n",
              "      <td>77.22</td>\n",
              "      <td>99.98</td>\n",
              "      <td>0</td>\n",
              "      <td>Weekday</td>\n",
              "      <td>Monday</td>\n",
              "      <td>Light_Load</td>\n",
              "    </tr>\n",
              "  </tbody>\n",
              "</table>\n",
              "<p>35040 rows × 11 columns</p>\n",
              "</div>\n",
              "      <button class=\"colab-df-convert\" onclick=\"convertToInteractive('df-28e447fb-1fc1-4962-baea-1a9d9f54e383')\"\n",
              "              title=\"Convert this dataframe to an interactive table.\"\n",
              "              style=\"display:none;\">\n",
              "        \n",
              "  <svg xmlns=\"http://www.w3.org/2000/svg\" height=\"24px\"viewBox=\"0 0 24 24\"\n",
              "       width=\"24px\">\n",
              "    <path d=\"M0 0h24v24H0V0z\" fill=\"none\"/>\n",
              "    <path d=\"M18.56 5.44l.94 2.06.94-2.06 2.06-.94-2.06-.94-.94-2.06-.94 2.06-2.06.94zm-11 1L8.5 8.5l.94-2.06 2.06-.94-2.06-.94L8.5 2.5l-.94 2.06-2.06.94zm10 10l.94 2.06.94-2.06 2.06-.94-2.06-.94-.94-2.06-.94 2.06-2.06.94z\"/><path d=\"M17.41 7.96l-1.37-1.37c-.4-.4-.92-.59-1.43-.59-.52 0-1.04.2-1.43.59L10.3 9.45l-7.72 7.72c-.78.78-.78 2.05 0 2.83L4 21.41c.39.39.9.59 1.41.59.51 0 1.02-.2 1.41-.59l7.78-7.78 2.81-2.81c.8-.78.8-2.07 0-2.86zM5.41 20L4 18.59l7.72-7.72 1.47 1.35L5.41 20z\"/>\n",
              "  </svg>\n",
              "      </button>\n",
              "      \n",
              "  <style>\n",
              "    .colab-df-container {\n",
              "      display:flex;\n",
              "      flex-wrap:wrap;\n",
              "      gap: 12px;\n",
              "    }\n",
              "\n",
              "    .colab-df-convert {\n",
              "      background-color: #E8F0FE;\n",
              "      border: none;\n",
              "      border-radius: 50%;\n",
              "      cursor: pointer;\n",
              "      display: none;\n",
              "      fill: #1967D2;\n",
              "      height: 32px;\n",
              "      padding: 0 0 0 0;\n",
              "      width: 32px;\n",
              "    }\n",
              "\n",
              "    .colab-df-convert:hover {\n",
              "      background-color: #E2EBFA;\n",
              "      box-shadow: 0px 1px 2px rgba(60, 64, 67, 0.3), 0px 1px 3px 1px rgba(60, 64, 67, 0.15);\n",
              "      fill: #174EA6;\n",
              "    }\n",
              "\n",
              "    [theme=dark] .colab-df-convert {\n",
              "      background-color: #3B4455;\n",
              "      fill: #D2E3FC;\n",
              "    }\n",
              "\n",
              "    [theme=dark] .colab-df-convert:hover {\n",
              "      background-color: #434B5C;\n",
              "      box-shadow: 0px 1px 3px 1px rgba(0, 0, 0, 0.15);\n",
              "      filter: drop-shadow(0px 1px 2px rgba(0, 0, 0, 0.3));\n",
              "      fill: #FFFFFF;\n",
              "    }\n",
              "  </style>\n",
              "\n",
              "      <script>\n",
              "        const buttonEl =\n",
              "          document.querySelector('#df-28e447fb-1fc1-4962-baea-1a9d9f54e383 button.colab-df-convert');\n",
              "        buttonEl.style.display =\n",
              "          google.colab.kernel.accessAllowed ? 'block' : 'none';\n",
              "\n",
              "        async function convertToInteractive(key) {\n",
              "          const element = document.querySelector('#df-28e447fb-1fc1-4962-baea-1a9d9f54e383');\n",
              "          const dataTable =\n",
              "            await google.colab.kernel.invokeFunction('convertToInteractive',\n",
              "                                                     [key], {});\n",
              "          if (!dataTable) return;\n",
              "\n",
              "          const docLinkHtml = 'Like what you see? Visit the ' +\n",
              "            '<a target=\"_blank\" href=https://colab.research.google.com/notebooks/data_table.ipynb>data table notebook</a>'\n",
              "            + ' to learn more about interactive tables.';\n",
              "          element.innerHTML = '';\n",
              "          dataTable['output_type'] = 'display_data';\n",
              "          await google.colab.output.renderOutput(dataTable, element);\n",
              "          const docLink = document.createElement('div');\n",
              "          docLink.innerHTML = docLinkHtml;\n",
              "          element.appendChild(docLink);\n",
              "        }\n",
              "      </script>\n",
              "    </div>\n",
              "  </div>\n",
              "  "
            ]
          },
          "metadata": {},
          "execution_count": 41
        }
      ]
    },
    {
      "cell_type": "markdown",
      "source": [
        "## EDA"
      ],
      "metadata": {
        "id": "k90YtMt55G8L"
      }
    },
    {
      "cell_type": "code",
      "source": [
        "# deleting date column\n",
        "steel.drop(['date'], axis=1, inplace=True)"
      ],
      "metadata": {
        "id": "jRpcNpL_5IVz"
      },
      "execution_count": 42,
      "outputs": []
    },
    {
      "cell_type": "code",
      "source": [
        "steel.info()"
      ],
      "metadata": {
        "colab": {
          "base_uri": "https://localhost:8080/"
        },
        "id": "uAH4ZqU65hI1",
        "outputId": "f7ef6a61-2a23-42a4-882d-ffa21a2812b7"
      },
      "execution_count": 43,
      "outputs": [
        {
          "output_type": "stream",
          "name": "stdout",
          "text": [
            "<class 'pandas.core.frame.DataFrame'>\n",
            "RangeIndex: 35040 entries, 0 to 35039\n",
            "Data columns (total 10 columns):\n",
            " #   Column                                Non-Null Count  Dtype  \n",
            "---  ------                                --------------  -----  \n",
            " 0   Usage_kWh                             35040 non-null  float64\n",
            " 1   Lagging_Current_Reactive.Power_kVarh  35040 non-null  float64\n",
            " 2   Leading_Current_Reactive_Power_kVarh  35040 non-null  float64\n",
            " 3   CO2(tCO2)                             35040 non-null  float64\n",
            " 4   Lagging_Current_Power_Factor          35040 non-null  float64\n",
            " 5   Leading_Current_Power_Factor          35040 non-null  float64\n",
            " 6   NSM                                   35040 non-null  int64  \n",
            " 7   WeekStatus                            35040 non-null  object \n",
            " 8   Day_of_week                           35040 non-null  object \n",
            " 9   Load_Type                             35040 non-null  object \n",
            "dtypes: float64(6), int64(1), object(3)\n",
            "memory usage: 2.7+ MB\n"
          ]
        }
      ]
    },
    {
      "cell_type": "code",
      "source": [
        "steel.describe()"
      ],
      "metadata": {
        "colab": {
          "base_uri": "https://localhost:8080/",
          "height": 364
        },
        "id": "nPBWYFuZ5jvj",
        "outputId": "1c13d267-128d-4d0d-ae55-847f49b465ad"
      },
      "execution_count": 44,
      "outputs": [
        {
          "output_type": "execute_result",
          "data": {
            "text/plain": [
              "          Usage_kWh  Lagging_Current_Reactive.Power_kVarh  \\\n",
              "count  35040.000000                          35040.000000   \n",
              "mean      27.386892                             13.035384   \n",
              "std       33.444380                             16.306000   \n",
              "min        0.000000                              0.000000   \n",
              "25%        3.200000                              2.300000   \n",
              "50%        4.570000                              5.000000   \n",
              "75%       51.237500                             22.640000   \n",
              "max      157.180000                             96.910000   \n",
              "\n",
              "       Leading_Current_Reactive_Power_kVarh     CO2(tCO2)  \\\n",
              "count                          35040.000000  35040.000000   \n",
              "mean                               3.870949      0.011524   \n",
              "std                                7.424463      0.016151   \n",
              "min                                0.000000      0.000000   \n",
              "25%                                0.000000      0.000000   \n",
              "50%                                0.000000      0.000000   \n",
              "75%                                2.090000      0.020000   \n",
              "max                               27.760000      0.070000   \n",
              "\n",
              "       Lagging_Current_Power_Factor  Leading_Current_Power_Factor  \\\n",
              "count                  35040.000000                  35040.000000   \n",
              "mean                      80.578056                     84.367870   \n",
              "std                       18.921322                     30.456535   \n",
              "min                        0.000000                      0.000000   \n",
              "25%                       63.320000                     99.700000   \n",
              "50%                       87.960000                    100.000000   \n",
              "75%                       99.022500                    100.000000   \n",
              "max                      100.000000                    100.000000   \n",
              "\n",
              "                NSM  \n",
              "count  35040.000000  \n",
              "mean   42750.000000  \n",
              "std    24940.534317  \n",
              "min        0.000000  \n",
              "25%    21375.000000  \n",
              "50%    42750.000000  \n",
              "75%    64125.000000  \n",
              "max    85500.000000  "
            ],
            "text/html": [
              "\n",
              "  <div id=\"df-fe344274-aa63-47df-b9a3-73230c73771e\">\n",
              "    <div class=\"colab-df-container\">\n",
              "      <div>\n",
              "<style scoped>\n",
              "    .dataframe tbody tr th:only-of-type {\n",
              "        vertical-align: middle;\n",
              "    }\n",
              "\n",
              "    .dataframe tbody tr th {\n",
              "        vertical-align: top;\n",
              "    }\n",
              "\n",
              "    .dataframe thead th {\n",
              "        text-align: right;\n",
              "    }\n",
              "</style>\n",
              "<table border=\"1\" class=\"dataframe\">\n",
              "  <thead>\n",
              "    <tr style=\"text-align: right;\">\n",
              "      <th></th>\n",
              "      <th>Usage_kWh</th>\n",
              "      <th>Lagging_Current_Reactive.Power_kVarh</th>\n",
              "      <th>Leading_Current_Reactive_Power_kVarh</th>\n",
              "      <th>CO2(tCO2)</th>\n",
              "      <th>Lagging_Current_Power_Factor</th>\n",
              "      <th>Leading_Current_Power_Factor</th>\n",
              "      <th>NSM</th>\n",
              "    </tr>\n",
              "  </thead>\n",
              "  <tbody>\n",
              "    <tr>\n",
              "      <th>count</th>\n",
              "      <td>35040.000000</td>\n",
              "      <td>35040.000000</td>\n",
              "      <td>35040.000000</td>\n",
              "      <td>35040.000000</td>\n",
              "      <td>35040.000000</td>\n",
              "      <td>35040.000000</td>\n",
              "      <td>35040.000000</td>\n",
              "    </tr>\n",
              "    <tr>\n",
              "      <th>mean</th>\n",
              "      <td>27.386892</td>\n",
              "      <td>13.035384</td>\n",
              "      <td>3.870949</td>\n",
              "      <td>0.011524</td>\n",
              "      <td>80.578056</td>\n",
              "      <td>84.367870</td>\n",
              "      <td>42750.000000</td>\n",
              "    </tr>\n",
              "    <tr>\n",
              "      <th>std</th>\n",
              "      <td>33.444380</td>\n",
              "      <td>16.306000</td>\n",
              "      <td>7.424463</td>\n",
              "      <td>0.016151</td>\n",
              "      <td>18.921322</td>\n",
              "      <td>30.456535</td>\n",
              "      <td>24940.534317</td>\n",
              "    </tr>\n",
              "    <tr>\n",
              "      <th>min</th>\n",
              "      <td>0.000000</td>\n",
              "      <td>0.000000</td>\n",
              "      <td>0.000000</td>\n",
              "      <td>0.000000</td>\n",
              "      <td>0.000000</td>\n",
              "      <td>0.000000</td>\n",
              "      <td>0.000000</td>\n",
              "    </tr>\n",
              "    <tr>\n",
              "      <th>25%</th>\n",
              "      <td>3.200000</td>\n",
              "      <td>2.300000</td>\n",
              "      <td>0.000000</td>\n",
              "      <td>0.000000</td>\n",
              "      <td>63.320000</td>\n",
              "      <td>99.700000</td>\n",
              "      <td>21375.000000</td>\n",
              "    </tr>\n",
              "    <tr>\n",
              "      <th>50%</th>\n",
              "      <td>4.570000</td>\n",
              "      <td>5.000000</td>\n",
              "      <td>0.000000</td>\n",
              "      <td>0.000000</td>\n",
              "      <td>87.960000</td>\n",
              "      <td>100.000000</td>\n",
              "      <td>42750.000000</td>\n",
              "    </tr>\n",
              "    <tr>\n",
              "      <th>75%</th>\n",
              "      <td>51.237500</td>\n",
              "      <td>22.640000</td>\n",
              "      <td>2.090000</td>\n",
              "      <td>0.020000</td>\n",
              "      <td>99.022500</td>\n",
              "      <td>100.000000</td>\n",
              "      <td>64125.000000</td>\n",
              "    </tr>\n",
              "    <tr>\n",
              "      <th>max</th>\n",
              "      <td>157.180000</td>\n",
              "      <td>96.910000</td>\n",
              "      <td>27.760000</td>\n",
              "      <td>0.070000</td>\n",
              "      <td>100.000000</td>\n",
              "      <td>100.000000</td>\n",
              "      <td>85500.000000</td>\n",
              "    </tr>\n",
              "  </tbody>\n",
              "</table>\n",
              "</div>\n",
              "      <button class=\"colab-df-convert\" onclick=\"convertToInteractive('df-fe344274-aa63-47df-b9a3-73230c73771e')\"\n",
              "              title=\"Convert this dataframe to an interactive table.\"\n",
              "              style=\"display:none;\">\n",
              "        \n",
              "  <svg xmlns=\"http://www.w3.org/2000/svg\" height=\"24px\"viewBox=\"0 0 24 24\"\n",
              "       width=\"24px\">\n",
              "    <path d=\"M0 0h24v24H0V0z\" fill=\"none\"/>\n",
              "    <path d=\"M18.56 5.44l.94 2.06.94-2.06 2.06-.94-2.06-.94-.94-2.06-.94 2.06-2.06.94zm-11 1L8.5 8.5l.94-2.06 2.06-.94-2.06-.94L8.5 2.5l-.94 2.06-2.06.94zm10 10l.94 2.06.94-2.06 2.06-.94-2.06-.94-.94-2.06-.94 2.06-2.06.94z\"/><path d=\"M17.41 7.96l-1.37-1.37c-.4-.4-.92-.59-1.43-.59-.52 0-1.04.2-1.43.59L10.3 9.45l-7.72 7.72c-.78.78-.78 2.05 0 2.83L4 21.41c.39.39.9.59 1.41.59.51 0 1.02-.2 1.41-.59l7.78-7.78 2.81-2.81c.8-.78.8-2.07 0-2.86zM5.41 20L4 18.59l7.72-7.72 1.47 1.35L5.41 20z\"/>\n",
              "  </svg>\n",
              "      </button>\n",
              "      \n",
              "  <style>\n",
              "    .colab-df-container {\n",
              "      display:flex;\n",
              "      flex-wrap:wrap;\n",
              "      gap: 12px;\n",
              "    }\n",
              "\n",
              "    .colab-df-convert {\n",
              "      background-color: #E8F0FE;\n",
              "      border: none;\n",
              "      border-radius: 50%;\n",
              "      cursor: pointer;\n",
              "      display: none;\n",
              "      fill: #1967D2;\n",
              "      height: 32px;\n",
              "      padding: 0 0 0 0;\n",
              "      width: 32px;\n",
              "    }\n",
              "\n",
              "    .colab-df-convert:hover {\n",
              "      background-color: #E2EBFA;\n",
              "      box-shadow: 0px 1px 2px rgba(60, 64, 67, 0.3), 0px 1px 3px 1px rgba(60, 64, 67, 0.15);\n",
              "      fill: #174EA6;\n",
              "    }\n",
              "\n",
              "    [theme=dark] .colab-df-convert {\n",
              "      background-color: #3B4455;\n",
              "      fill: #D2E3FC;\n",
              "    }\n",
              "\n",
              "    [theme=dark] .colab-df-convert:hover {\n",
              "      background-color: #434B5C;\n",
              "      box-shadow: 0px 1px 3px 1px rgba(0, 0, 0, 0.15);\n",
              "      filter: drop-shadow(0px 1px 2px rgba(0, 0, 0, 0.3));\n",
              "      fill: #FFFFFF;\n",
              "    }\n",
              "  </style>\n",
              "\n",
              "      <script>\n",
              "        const buttonEl =\n",
              "          document.querySelector('#df-fe344274-aa63-47df-b9a3-73230c73771e button.colab-df-convert');\n",
              "        buttonEl.style.display =\n",
              "          google.colab.kernel.accessAllowed ? 'block' : 'none';\n",
              "\n",
              "        async function convertToInteractive(key) {\n",
              "          const element = document.querySelector('#df-fe344274-aa63-47df-b9a3-73230c73771e');\n",
              "          const dataTable =\n",
              "            await google.colab.kernel.invokeFunction('convertToInteractive',\n",
              "                                                     [key], {});\n",
              "          if (!dataTable) return;\n",
              "\n",
              "          const docLinkHtml = 'Like what you see? Visit the ' +\n",
              "            '<a target=\"_blank\" href=https://colab.research.google.com/notebooks/data_table.ipynb>data table notebook</a>'\n",
              "            + ' to learn more about interactive tables.';\n",
              "          element.innerHTML = '';\n",
              "          dataTable['output_type'] = 'display_data';\n",
              "          await google.colab.output.renderOutput(dataTable, element);\n",
              "          const docLink = document.createElement('div');\n",
              "          docLink.innerHTML = docLinkHtml;\n",
              "          element.appendChild(docLink);\n",
              "        }\n",
              "      </script>\n",
              "    </div>\n",
              "  </div>\n",
              "  "
            ]
          },
          "metadata": {},
          "execution_count": 44
        }
      ]
    },
    {
      "cell_type": "code",
      "source": [
        "sns.heatmap(steel.isnull())"
      ],
      "metadata": {
        "colab": {
          "base_uri": "https://localhost:8080/",
          "height": 716
        },
        "id": "QQXLJKun5ubF",
        "outputId": "b2611c35-afa3-418b-bc16-3b103b867375"
      },
      "execution_count": 45,
      "outputs": [
        {
          "output_type": "execute_result",
          "data": {
            "text/plain": [
              "<Axes: >"
            ]
          },
          "metadata": {},
          "execution_count": 45
        },
        {
          "output_type": "display_data",
          "data": {
            "text/plain": [
              "<Figure size 640x480 with 2 Axes>"
            ],
            "image/png": "[encoded data removed]"
          },
          "metadata": {}
        }
      ]
    },
    {
      "cell_type": "markdown",
      "source": [
        "There are no missing values."
      ],
      "metadata": {
        "id": "y9eY-pnXC5nw"
      }
    },
    {
      "cell_type": "markdown",
      "source": [
        "### Changing categorical variables to numerical"
      ],
      "metadata": {
        "id": "8itFJYksXVBg"
      }
    },
    {
      "cell_type": "code",
      "source": [
        "steel['WeekStatus'].value_counts()"
      ],
      "metadata": {
        "colab": {
          "base_uri": "https://localhost:8080/"
        },
        "id": "hQkApu0w67GL",
        "outputId": "d28bd8c7-1e8a-4f5c-fd1f-a0503c863765"
      },
      "execution_count": 46,
      "outputs": [
        {
          "output_type": "execute_result",
          "data": {
            "text/plain": [
              "Weekday    25056\n",
              "Weekend     9984\n",
              "Name: WeekStatus, dtype: int64"
            ]
          },
          "metadata": {},
          "execution_count": 46
        }
      ]
    },
    {
      "cell_type": "code",
      "source": [
        "steel.replace({'WeekStatus' : { 'Weekday' : 0, 'Weekend':  1}},\n",
        "              inplace=True)"
      ],
      "metadata": {
        "id": "kSF25bZu78kC"
      },
      "execution_count": 47,
      "outputs": []
    },
    {
      "cell_type": "code",
      "source": [
        "steel['WeekStatus'].value_counts()"
      ],
      "metadata": {
        "colab": {
          "base_uri": "https://localhost:8080/"
        },
        "id": "K5BxoPCR8gjj",
        "outputId": "4cba20d3-315c-43a4-86aa-8da04735f047"
      },
      "execution_count": 48,
      "outputs": [
        {
          "output_type": "execute_result",
          "data": {
            "text/plain": [
              "0    25056\n",
              "1     9984\n",
              "Name: WeekStatus, dtype: int64"
            ]
          },
          "metadata": {},
          "execution_count": 48
        }
      ]
    },
    {
      "cell_type": "code",
      "source": [
        "steel['Day_of_week'].value_counts()"
      ],
      "metadata": {
        "colab": {
          "base_uri": "https://localhost:8080/"
        },
        "id": "e8wMFWSe7fdz",
        "outputId": "e22337a3-ddda-452a-85e2-fbfeda2b35ed"
      },
      "execution_count": 49,
      "outputs": [
        {
          "output_type": "execute_result",
          "data": {
            "text/plain": [
              "Monday       5088\n",
              "Tuesday      4992\n",
              "Wednesday    4992\n",
              "Thursday     4992\n",
              "Friday       4992\n",
              "Saturday     4992\n",
              "Sunday       4992\n",
              "Name: Day_of_week, dtype: int64"
            ]
          },
          "metadata": {},
          "execution_count": 49
        }
      ]
    },
    {
      "cell_type": "code",
      "source": [
        "steel.replace({'Day_of_week' : {'Monday':1, 'Tuesday': 2, 'Wednesday': 3,'Thursday': 4,'Friday': 5,'Saturday': 6,'Sunday': 7,}},\n",
        "              inplace=True)"
      ],
      "metadata": {
        "id": "LPVlhQDa9PdR"
      },
      "execution_count": 50,
      "outputs": []
    },
    {
      "cell_type": "code",
      "source": [
        "steel['Day_of_week'].value_counts()"
      ],
      "metadata": {
        "colab": {
          "base_uri": "https://localhost:8080/"
        },
        "id": "cQs2M0df9dKJ",
        "outputId": "b4381212-5225-4bff-9701-afa1ea40550c"
      },
      "execution_count": 51,
      "outputs": [
        {
          "output_type": "execute_result",
          "data": {
            "text/plain": [
              "1    5088\n",
              "2    4992\n",
              "3    4992\n",
              "4    4992\n",
              "5    4992\n",
              "6    4992\n",
              "7    4992\n",
              "Name: Day_of_week, dtype: int64"
            ]
          },
          "metadata": {},
          "execution_count": 51
        }
      ]
    },
    {
      "cell_type": "code",
      "source": [
        "steel['Load_Type'].value_counts()"
      ],
      "metadata": {
        "colab": {
          "base_uri": "https://localhost:8080/"
        },
        "id": "bmw6ZaKj7kRb",
        "outputId": "afb6f05b-b3be-4042-9f2a-849e2be6fca6"
      },
      "execution_count": 52,
      "outputs": [
        {
          "output_type": "execute_result",
          "data": {
            "text/plain": [
              "Light_Load      18072\n",
              "Medium_Load      9696\n",
              "Maximum_Load     7272\n",
              "Name: Load_Type, dtype: int64"
            ]
          },
          "metadata": {},
          "execution_count": 52
        }
      ]
    },
    {
      "cell_type": "code",
      "source": [
        "steel.replace({'Load_Type' : { 'Light_Load':1, 'Medium_Load':2, 'Maximum_Load':3}},\n",
        "              inplace=True)"
      ],
      "metadata": {
        "id": "iWGjtERL9O-5"
      },
      "execution_count": 53,
      "outputs": []
    },
    {
      "cell_type": "code",
      "source": [
        "steel['Load_Type'].value_counts()"
      ],
      "metadata": {
        "colab": {
          "base_uri": "https://localhost:8080/"
        },
        "id": "VOn5ooiW9ftB",
        "outputId": "c6a8433d-eaaf-4437-ab13-694d7d8cf8b2"
      },
      "execution_count": 54,
      "outputs": [
        {
          "output_type": "execute_result",
          "data": {
            "text/plain": [
              "1    18072\n",
              "2     9696\n",
              "3     7272\n",
              "Name: Load_Type, dtype: int64"
            ]
          },
          "metadata": {},
          "execution_count": 54
        }
      ]
    },
    {
      "cell_type": "code",
      "source": [
        "sns.pairplot(steel)"
      ],
      "metadata": {
        "colab": {
          "base_uri": "https://localhost:8080/",
          "height": 1000
        },
        "id": "dtOIQAGN6Nbb",
        "outputId": "7d1b6fd7-41d4-4852-e093-b843877e195f"
      },
      "execution_count": null,
      "outputs": [
        {
          "output_type": "execute_result",
          "data": {
            "text/plain": [
              "<seaborn.axisgrid.PairGrid at 0x7fe1a26cfa00>"
            ]
          },
          "metadata": {},
          "execution_count": 189
        },
        {
          "output_type": "display_data",
          "data": {
            "text/plain": [
              "<Figure size 1800x1800 with 110 Axes>"
            ],
            "image/png": "[encoded data removed]"
          },
          "metadata": {
            "needs_background": "light"
          }
        }
      ]
    },
    {
      "cell_type": "code",
      "source": [
        "steel.corr(method='pearson')"
      ],
      "metadata": {
        "colab": {
          "base_uri": "https://localhost:8080/",
          "height": 565
        },
        "id": "o-YHL_I--B1I",
        "outputId": "aa8a7cd0-dd32-4852-9393-3ef15ee8fd4a"
      },
      "execution_count": 55,
      "outputs": [
        {
          "output_type": "execute_result",
          "data": {
            "text/plain": [
              "                                      Usage_kWh  \\\n",
              "Usage_kWh                              1.000000   \n",
              "Lagging_Current_Reactive.Power_kVarh   0.896150   \n",
              "Leading_Current_Reactive_Power_kVarh  -0.324922   \n",
              "CO2(tCO2)                              0.988180   \n",
              "Lagging_Current_Power_Factor           0.385960   \n",
              "Leading_Current_Power_Factor           0.353566   \n",
              "NSM                                    0.234610   \n",
              "WeekStatus                            -0.295475   \n",
              "Day_of_week                           -0.240705   \n",
              "Load_Type                              0.614570   \n",
              "\n",
              "                                      Lagging_Current_Reactive.Power_kVarh  \\\n",
              "Usage_kWh                                                         0.896150   \n",
              "Lagging_Current_Reactive.Power_kVarh                              1.000000   \n",
              "Leading_Current_Reactive_Power_kVarh                             -0.405142   \n",
              "CO2(tCO2)                                                         0.886948   \n",
              "Lagging_Current_Power_Factor                                      0.144534   \n",
              "Leading_Current_Power_Factor                                      0.407716   \n",
              "NSM                                                               0.082662   \n",
              "WeekStatus                                                       -0.319870   \n",
              "Day_of_week                                                      -0.256227   \n",
              "Load_Type                                                         0.451899   \n",
              "\n",
              "                                      Leading_Current_Reactive_Power_kVarh  \\\n",
              "Usage_kWh                                                        -0.324922   \n",
              "Lagging_Current_Reactive.Power_kVarh                             -0.405142   \n",
              "Leading_Current_Reactive_Power_kVarh                              1.000000   \n",
              "CO2(tCO2)                                                        -0.332777   \n",
              "Lagging_Current_Power_Factor                                      0.526770   \n",
              "Leading_Current_Power_Factor                                     -0.944039   \n",
              "NSM                                                               0.371605   \n",
              "WeekStatus                                                        0.260431   \n",
              "Day_of_week                                                       0.212922   \n",
              "Load_Type                                                         0.001776   \n",
              "\n",
              "                                      CO2(tCO2)  Lagging_Current_Power_Factor  \\\n",
              "Usage_kWh                              0.988180                      0.385960   \n",
              "Lagging_Current_Reactive.Power_kVarh   0.886948                      0.144534   \n",
              "Leading_Current_Reactive_Power_kVarh  -0.332777                      0.526770   \n",
              "CO2(tCO2)                              1.000000                      0.379605   \n",
              "Lagging_Current_Power_Factor           0.379605                      1.000000   \n",
              "Leading_Current_Power_Factor           0.360019                     -0.519967   \n",
              "NSM                                    0.231726                      0.565270   \n",
              "WeekStatus                            -0.290467                      0.054082   \n",
              "Day_of_week                           -0.235298                      0.042465   \n",
              "Load_Type                              0.610653                      0.519189   \n",
              "\n",
              "                                      Leading_Current_Power_Factor  \\\n",
              "Usage_kWh                                                 0.353566   \n",
              "Lagging_Current_Reactive.Power_kVarh                      0.407716   \n",
              "Leading_Current_Reactive_Power_kVarh                     -0.944039   \n",
              "CO2(tCO2)                                                 0.360019   \n",
              "Lagging_Current_Power_Factor                             -0.519967   \n",
              "Leading_Current_Power_Factor                              1.000000   \n",
              "NSM                                                      -0.360563   \n",
              "WeekStatus                                               -0.314675   \n",
              "Day_of_week                                              -0.257677   \n",
              "Load_Type                                                 0.075394   \n",
              "\n",
              "                                               NSM    WeekStatus  \\\n",
              "Usage_kWh                             2.346103e-01 -2.954748e-01   \n",
              "Lagging_Current_Reactive.Power_kVarh  8.266237e-02 -3.198698e-01   \n",
              "Leading_Current_Reactive_Power_kVarh  3.716046e-01  2.604306e-01   \n",
              "CO2(tCO2)                             2.317260e-01 -2.904670e-01   \n",
              "Lagging_Current_Power_Factor          5.652695e-01  5.408210e-02   \n",
              "Leading_Current_Power_Factor         -3.605630e-01 -3.146749e-01   \n",
              "NSM                                   1.000000e+00 -9.027984e-17   \n",
              "WeekStatus                           -9.027984e-17  1.000000e+00   \n",
              "Day_of_week                          -1.011030e-16  7.903022e-01   \n",
              "Load_Type                             4.827670e-01 -1.999500e-01   \n",
              "\n",
              "                                       Day_of_week  Load_Type  \n",
              "Usage_kWh                            -2.407046e-01   0.614570  \n",
              "Lagging_Current_Reactive.Power_kVarh -2.562275e-01   0.451899  \n",
              "Leading_Current_Reactive_Power_kVarh  2.129219e-01   0.001776  \n",
              "CO2(tCO2)                            -2.352975e-01   0.610653  \n",
              "Lagging_Current_Power_Factor          4.246488e-02   0.519189  \n",
              "Leading_Current_Power_Factor         -2.576774e-01   0.075394  \n",
              "NSM                                  -1.011030e-16   0.482767  \n",
              "WeekStatus                            7.903022e-01  -0.199950  \n",
              "Day_of_week                           1.000000e+00  -0.168947  \n",
              "Load_Type                            -1.689472e-01   1.000000  "
            ],
            "text/html": [
              "\n",
              "  <div id=\"df-c2dc0ed4-4f38-4063-a441-cb194ca32bd1\">\n",
              "    <div class=\"colab-df-container\">\n",
              "      <div>\n",
              "<style scoped>\n",
              "    .dataframe tbody tr th:only-of-type {\n",
              "        vertical-align: middle;\n",
              "    }\n",
              "\n",
              "    .dataframe tbody tr th {\n",
              "        vertical-align: top;\n",
              "    }\n",
              "\n",
              "    .dataframe thead th {\n",
              "        text-align: right;\n",
              "    }\n",
              "</style>\n",
              "<table border=\"1\" class=\"dataframe\">\n",
              "  <thead>\n",
              "    <tr style=\"text-align: right;\">\n",
              "      <th></th>\n",
              "      <th>Usage_kWh</th>\n",
              "      <th>Lagging_Current_Reactive.Power_kVarh</th>\n",
              "      <th>Leading_Current_Reactive_Power_kVarh</th>\n",
              "      <th>CO2(tCO2)</th>\n",
              "      <th>Lagging_Current_Power_Factor</th>\n",
              "      <th>Leading_Current_Power_Factor</th>\n",
              "      <th>NSM</th>\n",
              "      <th>WeekStatus</th>\n",
              "      <th>Day_of_week</th>\n",
              "      <th>Load_Type</th>\n",
              "    </tr>\n",
              "  </thead>\n",
              "  <tbody>\n",
              "    <tr>\n",
              "      <th>Usage_kWh</th>\n",
              "      <td>1.000000</td>\n",
              "      <td>0.896150</td>\n",
              "      <td>-0.324922</td>\n",
              "      <td>0.988180</td>\n",
              "      <td>0.385960</td>\n",
              "      <td>0.353566</td>\n",
              "      <td>2.346103e-01</td>\n",
              "      <td>-2.954748e-01</td>\n",
              "      <td>-2.407046e-01</td>\n",
              "      <td>0.614570</td>\n",
              "    </tr>\n",
              "    <tr>\n",
              "      <th>Lagging_Current_Reactive.Power_kVarh</th>\n",
              "      <td>0.896150</td>\n",
              "      <td>1.000000</td>\n",
              "      <td>-0.405142</td>\n",
              "      <td>0.886948</td>\n",
              "      <td>0.144534</td>\n",
              "      <td>0.407716</td>\n",
              "      <td>8.266237e-02</td>\n",
              "      <td>-3.198698e-01</td>\n",
              "      <td>-2.562275e-01</td>\n",
              "      <td>0.451899</td>\n",
              "    </tr>\n",
              "    <tr>\n",
              "      <th>Leading_Current_Reactive_Power_kVarh</th>\n",
              "      <td>-0.324922</td>\n",
              "      <td>-0.405142</td>\n",
              "      <td>1.000000</td>\n",
              "      <td>-0.332777</td>\n",
              "      <td>0.526770</td>\n",
              "      <td>-0.944039</td>\n",
              "      <td>3.716046e-01</td>\n",
              "      <td>2.604306e-01</td>\n",
              "      <td>2.129219e-01</td>\n",
              "      <td>0.001776</td>\n",
              "    </tr>\n",
              "    <tr>\n",
              "      <th>CO2(tCO2)</th>\n",
              "      <td>0.988180</td>\n",
              "      <td>0.886948</td>\n",
              "      <td>-0.332777</td>\n",
              "      <td>1.000000</td>\n",
              "      <td>0.379605</td>\n",
              "      <td>0.360019</td>\n",
              "      <td>2.317260e-01</td>\n",
              "      <td>-2.904670e-01</td>\n",
              "      <td>-2.352975e-01</td>\n",
              "      <td>0.610653</td>\n",
              "    </tr>\n",
              "    <tr>\n",
              "      <th>Lagging_Current_Power_Factor</th>\n",
              "      <td>0.385960</td>\n",
              "      <td>0.144534</td>\n",
              "      <td>0.526770</td>\n",
              "      <td>0.379605</td>\n",
              "      <td>1.000000</td>\n",
              "      <td>-0.519967</td>\n",
              "      <td>5.652695e-01</td>\n",
              "      <td>5.408210e-02</td>\n",
              "      <td>4.246488e-02</td>\n",
              "      <td>0.519189</td>\n",
              "    </tr>\n",
              "    <tr>\n",
              "      <th>Leading_Current_Power_Factor</th>\n",
              "      <td>0.353566</td>\n",
              "      <td>0.407716</td>\n",
              "      <td>-0.944039</td>\n",
              "      <td>0.360019</td>\n",
              "      <td>-0.519967</td>\n",
              "      <td>1.000000</td>\n",
              "      <td>-3.605630e-01</td>\n",
              "      <td>-3.146749e-01</td>\n",
              "      <td>-2.576774e-01</td>\n",
              "      <td>0.075394</td>\n",
              "    </tr>\n",
              "    <tr>\n",
              "      <th>NSM</th>\n",
              "      <td>0.234610</td>\n",
              "      <td>0.082662</td>\n",
              "      <td>0.371605</td>\n",
              "      <td>0.231726</td>\n",
              "      <td>0.565270</td>\n",
              "      <td>-0.360563</td>\n",
              "      <td>1.000000e+00</td>\n",
              "      <td>-9.027984e-17</td>\n",
              "      <td>-1.011030e-16</td>\n",
              "      <td>0.482767</td>\n",
              "    </tr>\n",
              "    <tr>\n",
              "      <th>WeekStatus</th>\n",
              "      <td>-0.295475</td>\n",
              "      <td>-0.319870</td>\n",
              "      <td>0.260431</td>\n",
              "      <td>-0.290467</td>\n",
              "      <td>0.054082</td>\n",
              "      <td>-0.314675</td>\n",
              "      <td>-9.027984e-17</td>\n",
              "      <td>1.000000e+00</td>\n",
              "      <td>7.903022e-01</td>\n",
              "      <td>-0.199950</td>\n",
              "    </tr>\n",
              "    <tr>\n",
              "      <th>Day_of_week</th>\n",
              "      <td>-0.240705</td>\n",
              "      <td>-0.256227</td>\n",
              "      <td>0.212922</td>\n",
              "      <td>-0.235298</td>\n",
              "      <td>0.042465</td>\n",
              "      <td>-0.257677</td>\n",
              "      <td>-1.011030e-16</td>\n",
              "      <td>7.903022e-01</td>\n",
              "      <td>1.000000e+00</td>\n",
              "      <td>-0.168947</td>\n",
              "    </tr>\n",
              "    <tr>\n",
              "      <th>Load_Type</th>\n",
              "      <td>0.614570</td>\n",
              "      <td>0.451899</td>\n",
              "      <td>0.001776</td>\n",
              "      <td>0.610653</td>\n",
              "      <td>0.519189</td>\n",
              "      <td>0.075394</td>\n",
              "      <td>4.827670e-01</td>\n",
              "      <td>-1.999500e-01</td>\n",
              "      <td>-1.689472e-01</td>\n",
              "      <td>1.000000</td>\n",
              "    </tr>\n",
              "  </tbody>\n",
              "</table>\n",
              "</div>\n",
              "      <button class=\"colab-df-convert\" onclick=\"convertToInteractive('df-c2dc0ed4-4f38-4063-a441-cb194ca32bd1')\"\n",
              "              title=\"Convert this dataframe to an interactive table.\"\n",
              "              style=\"display:none;\">\n",
              "        \n",
              "  <svg xmlns=\"http://www.w3.org/2000/svg\" height=\"24px\"viewBox=\"0 0 24 24\"\n",
              "       width=\"24px\">\n",
              "    <path d=\"M0 0h24v24H0V0z\" fill=\"none\"/>\n",
              "    <path d=\"M18.56 5.44l.94 2.06.94-2.06 2.06-.94-2.06-.94-.94-2.06-.94 2.06-2.06.94zm-11 1L8.5 8.5l.94-2.06 2.06-.94-2.06-.94L8.5 2.5l-.94 2.06-2.06.94zm10 10l.94 2.06.94-2.06 2.06-.94-2.06-.94-.94-2.06-.94 2.06-2.06.94z\"/><path d=\"M17.41 7.96l-1.37-1.37c-.4-.4-.92-.59-1.43-.59-.52 0-1.04.2-1.43.59L10.3 9.45l-7.72 7.72c-.78.78-.78 2.05 0 2.83L4 21.41c.39.39.9.59 1.41.59.51 0 1.02-.2 1.41-.59l7.78-7.78 2.81-2.81c.8-.78.8-2.07 0-2.86zM5.41 20L4 18.59l7.72-7.72 1.47 1.35L5.41 20z\"/>\n",
              "  </svg>\n",
              "      </button>\n",
              "      \n",
              "  <style>\n",
              "    .colab-df-container {\n",
              "      display:flex;\n",
              "      flex-wrap:wrap;\n",
              "      gap: 12px;\n",
              "    }\n",
              "\n",
              "    .colab-df-convert {\n",
              "      background-color: #E8F0FE;\n",
              "      border: none;\n",
              "      border-radius: 50%;\n",
              "      cursor: pointer;\n",
              "      display: none;\n",
              "      fill: #1967D2;\n",
              "      height: 32px;\n",
              "      padding: 0 0 0 0;\n",
              "      width: 32px;\n",
              "    }\n",
              "\n",
              "    .colab-df-convert:hover {\n",
              "      background-color: #E2EBFA;\n",
              "      box-shadow: 0px 1px 2px rgba(60, 64, 67, 0.3), 0px 1px 3px 1px rgba(60, 64, 67, 0.15);\n",
              "      fill: #174EA6;\n",
              "    }\n",
              "\n",
              "    [theme=dark] .colab-df-convert {\n",
              "      background-color: #3B4455;\n",
              "      fill: #D2E3FC;\n",
              "    }\n",
              "\n",
              "    [theme=dark] .colab-df-convert:hover {\n",
              "      background-color: #434B5C;\n",
              "      box-shadow: 0px 1px 3px 1px rgba(0, 0, 0, 0.15);\n",
              "      filter: drop-shadow(0px 1px 2px rgba(0, 0, 0, 0.3));\n",
              "      fill: #FFFFFF;\n",
              "    }\n",
              "  </style>\n",
              "\n",
              "      <script>\n",
              "        const buttonEl =\n",
              "          document.querySelector('#df-c2dc0ed4-4f38-4063-a441-cb194ca32bd1 button.colab-df-convert');\n",
              "        buttonEl.style.display =\n",
              "          google.colab.kernel.accessAllowed ? 'block' : 'none';\n",
              "\n",
              "        async function convertToInteractive(key) {\n",
              "          const element = document.querySelector('#df-c2dc0ed4-4f38-4063-a441-cb194ca32bd1');\n",
              "          const dataTable =\n",
              "            await google.colab.kernel.invokeFunction('convertToInteractive',\n",
              "                                                     [key], {});\n",
              "          if (!dataTable) return;\n",
              "\n",
              "          const docLinkHtml = 'Like what you see? Visit the ' +\n",
              "            '<a target=\"_blank\" href=https://colab.research.google.com/notebooks/data_table.ipynb>data table notebook</a>'\n",
              "            + ' to learn more about interactive tables.';\n",
              "          element.innerHTML = '';\n",
              "          dataTable['output_type'] = 'display_data';\n",
              "          await google.colab.output.renderOutput(dataTable, element);\n",
              "          const docLink = document.createElement('div');\n",
              "          docLink.innerHTML = docLinkHtml;\n",
              "          element.appendChild(docLink);\n",
              "        }\n",
              "      </script>\n",
              "    </div>\n",
              "  </div>\n",
              "  "
            ]
          },
          "metadata": {},
          "execution_count": 55
        }
      ]
    },
    {
      "cell_type": "markdown",
      "source": [
        "We see the folloing correlations:\n",
        "\n",
        "* Usage_kWh* Lagging_Current_Reactive.Power_kVarh\n",
        "* Usage_kWh* CO2(tCO2)\n",
        "* Lagging_Current_Reactive.Power_kVarh* CO2(tCO2)\n",
        "\n",
        "However, because Usage_kWh is the independent variable, we will not use the combinations where it appears. We will only add the 3rd interaction and drop Lagging_Current_Reactive.Power_kVarh and CO2(tCO2) to avoid multicollinearity.\n"
      ],
      "metadata": {
        "id": "U2IX2s6mJogo"
      }
    },
    {
      "cell_type": "code",
      "source": [
        "# adding correlated variables\n",
        "steel['x2x4'] = steel['Lagging_Current_Reactive.Power_kVarh']*steel['CO2(tCO2)']\n",
        "steel.drop(['Lagging_Current_Reactive.Power_kVarh'], axis=1, inplace=True)\n",
        "steel.drop(['CO2(tCO2)'], axis=1, inplace=True)\n",
        "steel"
      ],
      "metadata": {
        "colab": {
          "base_uri": "https://localhost:8080/",
          "height": 487
        },
        "id": "DiuAiAiD-10x",
        "outputId": "d9fdc476-42b8-4965-d780-2b00eb5330dd"
      },
      "execution_count": 56,
      "outputs": [
        {
          "output_type": "execute_result",
          "data": {
            "text/plain": [
              "       Usage_kWh  Leading_Current_Reactive_Power_kVarh  \\\n",
              "0           3.17                                  0.00   \n",
              "1           4.00                                  0.00   \n",
              "2           3.24                                  0.00   \n",
              "3           3.31                                  0.00   \n",
              "4           3.82                                  0.00   \n",
              "...          ...                                   ...   \n",
              "35035       3.85                                  0.00   \n",
              "35036       3.74                                  0.00   \n",
              "35037       3.78                                  0.07   \n",
              "35038       3.78                                  0.11   \n",
              "35039       3.67                                  0.07   \n",
              "\n",
              "       Lagging_Current_Power_Factor  Leading_Current_Power_Factor    NSM  \\\n",
              "0                             73.21                        100.00    900   \n",
              "1                             66.77                        100.00   1800   \n",
              "2                             70.28                        100.00   2700   \n",
              "3                             68.09                        100.00   3600   \n",
              "4                             64.72                        100.00   4500   \n",
              "...                             ...                           ...    ...   \n",
              "35035                         62.10                        100.00  82800   \n",
              "35036                         70.71                        100.00  83700   \n",
              "35037                         76.62                         99.98  84600   \n",
              "35038                         77.72                         99.96  85500   \n",
              "35039                         77.22                         99.98      0   \n",
              "\n",
              "       WeekStatus  Day_of_week  Load_Type  x2x4  \n",
              "0               0            1          1   0.0  \n",
              "1               0            1          1   0.0  \n",
              "2               0            1          1   0.0  \n",
              "3               0            1          1   0.0  \n",
              "4               0            1          1   0.0  \n",
              "...           ...          ...        ...   ...  \n",
              "35035           0            1          1   0.0  \n",
              "35036           0            1          1   0.0  \n",
              "35037           0            1          1   0.0  \n",
              "35038           0            1          1   0.0  \n",
              "35039           0            1          1   0.0  \n",
              "\n",
              "[35040 rows x 9 columns]"
            ],
            "text/html": [
              "\n",
              "  <div id=\"df-e4d07cdf-b2a9-4811-9335-bed9921d5a83\">\n",
              "    <div class=\"colab-df-container\">\n",
              "      <div>\n",
              "<style scoped>\n",
              "    .dataframe tbody tr th:only-of-type {\n",
              "        vertical-align: middle;\n",
              "    }\n",
              "\n",
              "    .dataframe tbody tr th {\n",
              "        vertical-align: top;\n",
              "    }\n",
              "\n",
              "    .dataframe thead th {\n",
              "        text-align: right;\n",
              "    }\n",
              "</style>\n",
              "<table border=\"1\" class=\"dataframe\">\n",
              "  <thead>\n",
              "    <tr style=\"text-align: right;\">\n",
              "      <th></th>\n",
              "      <th>Usage_kWh</th>\n",
              "      <th>Leading_Current_Reactive_Power_kVarh</th>\n",
              "      <th>Lagging_Current_Power_Factor</th>\n",
              "      <th>Leading_Current_Power_Factor</th>\n",
              "      <th>NSM</th>\n",
              "      <th>WeekStatus</th>\n",
              "      <th>Day_of_week</th>\n",
              "      <th>Load_Type</th>\n",
              "      <th>x2x4</th>\n",
              "    </tr>\n",
              "  </thead>\n",
              "  <tbody>\n",
              "    <tr>\n",
              "      <th>0</th>\n",
              "      <td>3.17</td>\n",
              "      <td>0.00</td>\n",
              "      <td>73.21</td>\n",
              "      <td>100.00</td>\n",
              "      <td>900</td>\n",
              "      <td>0</td>\n",
              "      <td>1</td>\n",
              "      <td>1</td>\n",
              "      <td>0.0</td>\n",
              "    </tr>\n",
              "    <tr>\n",
              "      <th>1</th>\n",
              "      <td>4.00</td>\n",
              "      <td>0.00</td>\n",
              "      <td>66.77</td>\n",
              "      <td>100.00</td>\n",
              "      <td>1800</td>\n",
              "      <td>0</td>\n",
              "      <td>1</td>\n",
              "      <td>1</td>\n",
              "      <td>0.0</td>\n",
              "    </tr>\n",
              "    <tr>\n",
              "      <th>2</th>\n",
              "      <td>3.24</td>\n",
              "      <td>0.00</td>\n",
              "      <td>70.28</td>\n",
              "      <td>100.00</td>\n",
              "      <td>2700</td>\n",
              "      <td>0</td>\n",
              "      <td>1</td>\n",
              "      <td>1</td>\n",
              "      <td>0.0</td>\n",
              "    </tr>\n",
              "    <tr>\n",
              "      <th>3</th>\n",
              "      <td>3.31</td>\n",
              "      <td>0.00</td>\n",
              "      <td>68.09</td>\n",
              "      <td>100.00</td>\n",
              "      <td>3600</td>\n",
              "      <td>0</td>\n",
              "      <td>1</td>\n",
              "      <td>1</td>\n",
              "      <td>0.0</td>\n",
              "    </tr>\n",
              "    <tr>\n",
              "      <th>4</th>\n",
              "      <td>3.82</td>\n",
              "      <td>0.00</td>\n",
              "      <td>64.72</td>\n",
              "      <td>100.00</td>\n",
              "      <td>4500</td>\n",
              "      <td>0</td>\n",
              "      <td>1</td>\n",
              "      <td>1</td>\n",
              "      <td>0.0</td>\n",
              "    </tr>\n",
              "    <tr>\n",
              "      <th>...</th>\n",
              "      <td>...</td>\n",
              "      <td>...</td>\n",
              "      <td>...</td>\n",
              "      <td>...</td>\n",
              "      <td>...</td>\n",
              "      <td>...</td>\n",
              "      <td>...</td>\n",
              "      <td>...</td>\n",
              "      <td>...</td>\n",
              "    </tr>\n",
              "    <tr>\n",
              "      <th>35035</th>\n",
              "      <td>3.85</td>\n",
              "      <td>0.00</td>\n",
              "      <td>62.10</td>\n",
              "      <td>100.00</td>\n",
              "      <td>82800</td>\n",
              "      <td>0</td>\n",
              "      <td>1</td>\n",
              "      <td>1</td>\n",
              "      <td>0.0</td>\n",
              "    </tr>\n",
              "    <tr>\n",
              "      <th>35036</th>\n",
              "      <td>3.74</td>\n",
              "      <td>0.00</td>\n",
              "      <td>70.71</td>\n",
              "      <td>100.00</td>\n",
              "      <td>83700</td>\n",
              "      <td>0</td>\n",
              "      <td>1</td>\n",
              "      <td>1</td>\n",
              "      <td>0.0</td>\n",
              "    </tr>\n",
              "    <tr>\n",
              "      <th>35037</th>\n",
              "      <td>3.78</td>\n",
              "      <td>0.07</td>\n",
              "      <td>76.62</td>\n",
              "      <td>99.98</td>\n",
              "      <td>84600</td>\n",
              "      <td>0</td>\n",
              "      <td>1</td>\n",
              "      <td>1</td>\n",
              "      <td>0.0</td>\n",
              "    </tr>\n",
              "    <tr>\n",
              "      <th>35038</th>\n",
              "      <td>3.78</td>\n",
              "      <td>0.11</td>\n",
              "      <td>77.72</td>\n",
              "      <td>99.96</td>\n",
              "      <td>85500</td>\n",
              "      <td>0</td>\n",
              "      <td>1</td>\n",
              "      <td>1</td>\n",
              "      <td>0.0</td>\n",
              "    </tr>\n",
              "    <tr>\n",
              "      <th>35039</th>\n",
              "      <td>3.67</td>\n",
              "      <td>0.07</td>\n",
              "      <td>77.22</td>\n",
              "      <td>99.98</td>\n",
              "      <td>0</td>\n",
              "      <td>0</td>\n",
              "      <td>1</td>\n",
              "      <td>1</td>\n",
              "      <td>0.0</td>\n",
              "    </tr>\n",
              "  </tbody>\n",
              "</table>\n",
              "<p>35040 rows × 9 columns</p>\n",
              "</div>\n",
              "      <button class=\"colab-df-convert\" onclick=\"convertToInteractive('df-e4d07cdf-b2a9-4811-9335-bed9921d5a83')\"\n",
              "              title=\"Convert this dataframe to an interactive table.\"\n",
              "              style=\"display:none;\">\n",
              "        \n",
              "  <svg xmlns=\"http://www.w3.org/2000/svg\" height=\"24px\"viewBox=\"0 0 24 24\"\n",
              "       width=\"24px\">\n",
              "    <path d=\"M0 0h24v24H0V0z\" fill=\"none\"/>\n",
              "    <path d=\"M18.56 5.44l.94 2.06.94-2.06 2.06-.94-2.06-.94-.94-2.06-.94 2.06-2.06.94zm-11 1L8.5 8.5l.94-2.06 2.06-.94-2.06-.94L8.5 2.5l-.94 2.06-2.06.94zm10 10l.94 2.06.94-2.06 2.06-.94-2.06-.94-.94-2.06-.94 2.06-2.06.94z\"/><path d=\"M17.41 7.96l-1.37-1.37c-.4-.4-.92-.59-1.43-.59-.52 0-1.04.2-1.43.59L10.3 9.45l-7.72 7.72c-.78.78-.78 2.05 0 2.83L4 21.41c.39.39.9.59 1.41.59.51 0 1.02-.2 1.41-.59l7.78-7.78 2.81-2.81c.8-.78.8-2.07 0-2.86zM5.41 20L4 18.59l7.72-7.72 1.47 1.35L5.41 20z\"/>\n",
              "  </svg>\n",
              "      </button>\n",
              "      \n",
              "  <style>\n",
              "    .colab-df-container {\n",
              "      display:flex;\n",
              "      flex-wrap:wrap;\n",
              "      gap: 12px;\n",
              "    }\n",
              "\n",
              "    .colab-df-convert {\n",
              "      background-color: #E8F0FE;\n",
              "      border: none;\n",
              "      border-radius: 50%;\n",
              "      cursor: pointer;\n",
              "      display: none;\n",
              "      fill: #1967D2;\n",
              "      height: 32px;\n",
              "      padding: 0 0 0 0;\n",
              "      width: 32px;\n",
              "    }\n",
              "\n",
              "    .colab-df-convert:hover {\n",
              "      background-color: #E2EBFA;\n",
              "      box-shadow: 0px 1px 2px rgba(60, 64, 67, 0.3), 0px 1px 3px 1px rgba(60, 64, 67, 0.15);\n",
              "      fill: #174EA6;\n",
              "    }\n",
              "\n",
              "    [theme=dark] .colab-df-convert {\n",
              "      background-color: #3B4455;\n",
              "      fill: #D2E3FC;\n",
              "    }\n",
              "\n",
              "    [theme=dark] .colab-df-convert:hover {\n",
              "      background-color: #434B5C;\n",
              "      box-shadow: 0px 1px 3px 1px rgba(0, 0, 0, 0.15);\n",
              "      filter: drop-shadow(0px 1px 2px rgba(0, 0, 0, 0.3));\n",
              "      fill: #FFFFFF;\n",
              "    }\n",
              "  </style>\n",
              "\n",
              "      <script>\n",
              "        const buttonEl =\n",
              "          document.querySelector('#df-e4d07cdf-b2a9-4811-9335-bed9921d5a83 button.colab-df-convert');\n",
              "        buttonEl.style.display =\n",
              "          google.colab.kernel.accessAllowed ? 'block' : 'none';\n",
              "\n",
              "        async function convertToInteractive(key) {\n",
              "          const element = document.querySelector('#df-e4d07cdf-b2a9-4811-9335-bed9921d5a83');\n",
              "          const dataTable =\n",
              "            await google.colab.kernel.invokeFunction('convertToInteractive',\n",
              "                                                     [key], {});\n",
              "          if (!dataTable) return;\n",
              "\n",
              "          const docLinkHtml = 'Like what you see? Visit the ' +\n",
              "            '<a target=\"_blank\" href=https://colab.research.google.com/notebooks/data_table.ipynb>data table notebook</a>'\n",
              "            + ' to learn more about interactive tables.';\n",
              "          element.innerHTML = '';\n",
              "          dataTable['output_type'] = 'display_data';\n",
              "          await google.colab.output.renderOutput(dataTable, element);\n",
              "          const docLink = document.createElement('div');\n",
              "          docLink.innerHTML = docLinkHtml;\n",
              "          element.appendChild(docLink);\n",
              "        }\n",
              "      </script>\n",
              "    </div>\n",
              "  </div>\n",
              "  "
            ]
          },
          "metadata": {},
          "execution_count": 56
        }
      ]
    },
    {
      "cell_type": "code",
      "source": [
        "y = steel['Usage_kWh']"
      ],
      "metadata": {
        "id": "ONdB56sl_12y"
      },
      "execution_count": 57,
      "outputs": []
    },
    {
      "cell_type": "code",
      "source": [
        "X = steel.iloc[:, 1:]"
      ],
      "metadata": {
        "id": "p1YYEYQaBEDv"
      },
      "execution_count": 58,
      "outputs": []
    },
    {
      "cell_type": "markdown",
      "source": [
        "## Running PCA to speed up the process"
      ],
      "metadata": {
        "id": "SWVtzjXYBbWc"
      }
    },
    {
      "cell_type": "code",
      "source": [
        "from sklearn.preprocessing import StandardScaler\n",
        "scaler = StandardScaler()\n",
        "X_sc = scaler.fit_transform(X)\n",
        "X_sc.shape"
      ],
      "metadata": {
        "colab": {
          "base_uri": "https://localhost:8080/"
        },
        "id": "Pdn81C4UBh9B",
        "outputId": "1523223d-8418-43ac-a728-d69b33e4c78a"
      },
      "execution_count": 59,
      "outputs": [
        {
          "output_type": "execute_result",
          "data": {
            "text/plain": [
              "(35040, 8)"
            ]
          },
          "metadata": {},
          "execution_count": 59
        }
      ]
    },
    {
      "cell_type": "code",
      "source": [
        "#Splitting the data into train and test split\n",
        "from sklearn.model_selection import train_test_split\n",
        "X_train, X_test, y_train, y_test = train_test_split(X_sc, y, test_size=0.3)"
      ],
      "metadata": {
        "id": "AAoT45dQCgVj"
      },
      "execution_count": 60,
      "outputs": []
    },
    {
      "cell_type": "code",
      "source": [
        "print(X_train.shape)\n",
        "print(X_test.shape)\n",
        "print(y_train.shape)\n",
        "print(y_test.shape)"
      ],
      "metadata": {
        "colab": {
          "base_uri": "https://localhost:8080/"
        },
        "id": "cCTCwwuGDRQe",
        "outputId": "e681602b-2447-4e2d-b9b2-ec079c556383"
      },
      "execution_count": 61,
      "outputs": [
        {
          "output_type": "stream",
          "name": "stdout",
          "text": [
            "(24528, 8)\n",
            "(10512, 8)\n",
            "(24528,)\n",
            "(10512,)\n"
          ]
        }
      ]
    },
    {
      "cell_type": "code",
      "source": [
        "from sklearn.decomposition import PCA\n",
        "pca = PCA(0.90)\n",
        "pca.fit(X_train)\n",
        "print(pca.n_components_)"
      ],
      "metadata": {
        "colab": {
          "base_uri": "https://localhost:8080/"
        },
        "id": "Orf76QaNCYkq",
        "outputId": "5fd98f31-81ed-4231-f920-f14ad12a3658"
      },
      "execution_count": 62,
      "outputs": [
        {
          "output_type": "stream",
          "name": "stdout",
          "text": [
            "5\n"
          ]
        }
      ]
    },
    {
      "cell_type": "markdown",
      "source": [
        "We were able to reduce the dimension from 8 to 5."
      ],
      "metadata": {
        "id": "M87ndiddC1HZ"
      }
    },
    {
      "cell_type": "code",
      "source": [
        "# transforming both train and test sets\n",
        "X_train = pca.transform(X_train)\n",
        "X_test = pca.transform(X_test)"
      ],
      "metadata": {
        "id": "ocqKIfLSC4NO"
      },
      "execution_count": 63,
      "outputs": []
    },
    {
      "cell_type": "code",
      "source": [
        "print(X_train.shape)\n",
        "print(X_test.shape)\n",
        "print(y_train.shape)\n",
        "print(y_test.shape)"
      ],
      "metadata": {
        "colab": {
          "base_uri": "https://localhost:8080/"
        },
        "id": "GsRedEDlDeKV",
        "outputId": "492943ec-0350-4c3f-a294-e1ed252c8885"
      },
      "execution_count": 64,
      "outputs": [
        {
          "output_type": "stream",
          "name": "stdout",
          "text": [
            "(24528, 5)\n",
            "(10512, 5)\n",
            "(24528,)\n",
            "(10512,)\n"
          ]
        }
      ]
    },
    {
      "cell_type": "markdown",
      "source": [
        "## Creating SGD Regressor"
      ],
      "metadata": {
        "id": "NTHL5lP_FnOE"
      }
    },
    {
      "cell_type": "code",
      "source": [
        "# defining possible parameters for SGDRegressor.\n",
        "# https://scikit-learn.org/stable/modules/generated/sklearn.linear_model.SGDRegressor.html#sklearn.linear_model.SGDRegressor\n",
        "\n",
        "param = {\n",
        "    'penalty': ['elasticnet'], # as requested by the instructor\n",
        "    'alpha': [1e-5, 1e-3, 1e-2, 1, 10],\n",
        "    'tol':[1e-4, 1e-3, 1e-2, 0],\n",
        "    }"
      ],
      "metadata": {
        "id": "kSIBb4BiDyhv"
      },
      "execution_count": 65,
      "outputs": []
    },
    {
      "cell_type": "code",
      "source": [
        "# Preparing to do 5-Fold Cross Validation.\n",
        "from sklearn.model_selection import RepeatedKFold\n",
        "cv = RepeatedKFold(n_splits=5, n_repeats=2)"
      ],
      "metadata": {
        "id": "vKAqKHZZDyhw"
      },
      "execution_count": 66,
      "outputs": []
    },
    {
      "cell_type": "code",
      "source": [
        "# Looking for the optimal model with 5-Fold Cross Validation and GridSearch.\n",
        "from sklearn.model_selection import GridSearchCV\n",
        "from sklearn.linear_model import SGDRegressor\n",
        "\n",
        "# defining search\n",
        "search = GridSearchCV(SGDRegressor(), param, n_jobs=-1, cv=cv)\n",
        "# execute search\n",
        "result = search.fit(X_train, y_train)"
      ],
      "metadata": {
        "id": "liY4laPHDyhw"
      },
      "execution_count": 67,
      "outputs": []
    },
    {
      "cell_type": "code",
      "source": [
        "# summarize result\n",
        "print('Best Score: %s' % result.best_score_)\n",
        "print('Best Hyperparameters: %s' % result.best_params_)"
      ],
      "metadata": {
        "colab": {
          "base_uri": "https://localhost:8080/"
        },
        "outputId": "17d7be0a-327d-48f2-acb7-eec0c44dfb5f",
        "id": "f9sDq61ODyhw"
      },
      "execution_count": 68,
      "outputs": [
        {
          "output_type": "stream",
          "name": "stdout",
          "text": [
            "Best Score: 0.925546290683066\n",
            "Best Hyperparameters: {'alpha': 1e-05, 'penalty': 'elasticnet', 'tol': 0.0001}\n"
          ]
        }
      ]
    },
    {
      "cell_type": "code",
      "source": [
        "SGD = SGDRegressor(alpha=0.00001, penalty=\"elasticnet\", tol=0.0001) # Fitting model with suggested params\n",
        "SGD.fit(X_train, y_train)   # fitting model\n",
        "y_hat = SGD.predict(X_test) # predicting values"
      ],
      "metadata": {
        "id": "LOvbPKaZFwoV"
      },
      "execution_count": 69,
      "outputs": []
    },
    {
      "cell_type": "markdown",
      "source": [
        "## Testing SGD Model"
      ],
      "metadata": {
        "id": "dQDGhVUqGB9l"
      }
    },
    {
      "cell_type": "code",
      "source": [
        "from sklearn import metrics\n",
        "from sklearn.metrics import r2_score\n",
        "print(\"\\tExplained variance:\", metrics.explained_variance_score(y_test, y_hat))\n",
        "print(\"\\tMean absolute error:\", metrics.mean_absolute_error(y_test, y_hat))\n",
        "print(\"\\tR2 score:\", r2_score(y_test, y_hat))"
      ],
      "metadata": {
        "colab": {
          "base_uri": "https://localhost:8080/"
        },
        "id": "W7i20wuqGD_t",
        "outputId": "614a6295-7b41-4ff7-e0e6-8d1612e60446"
      },
      "execution_count": 70,
      "outputs": [
        {
          "output_type": "stream",
          "name": "stdout",
          "text": [
            "\tExplained variance: 0.9270705883762256\n",
            "\tMean absolute error: 6.153934039401261\n",
            "\tR2 score: 0.927035927761256\n"
          ]
        }
      ]
    }
  ],
  "metadata": {
    "anaconda-cloud": {},
    "kernelspec": {
      "display_name": "Python 3",
      "name": "python3"
    },
    "language_info": {
      "codemirror_mode": {
        "name": "ipython",
        "version": 3
      },
      "file_extension": ".py",
      "mimetype": "text/x-python",
      "name": "python",
      "nbconvert_exporter": "python",
      "pygments_lexer": "ipython3",
      "version": "3.7.9"
    },
    "colab": {
      "provenance": [],
      "toc_visible": true,
      "gpuType": "T4"
    },
    "accelerator": "GPU"
  },
  "nbformat": 4,
  "nbformat_minor": 0
}